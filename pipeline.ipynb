{
  "nbformat": 4,
  "nbformat_minor": 0,
  "metadata": {
    "colab": {
      "provenance": []
    },
    "kernelspec": {
      "name": "python3",
      "display_name": "Python 3"
    },
    "language_info": {
      "name": "python"
    }
  },
  "cells": [
    {
      "cell_type": "code",
      "execution_count": 1,
      "metadata": {
        "colab": {
          "base_uri": "https://localhost:8080/"
        },
        "collapsed": true,
        "id": "cIj7YXB8S0Ne",
        "outputId": "888a9a6c-b5f9-4ea1-d316-32167c887dac"
      },
      "outputs": [
        {
          "output_type": "stream",
          "name": "stderr",
          "text": [
            "/usr/local/lib/python3.11/dist-packages/dask/dataframe/__init__.py:42: FutureWarning: \n",
            "Dask dataframe query planning is disabled because dask-expr is not installed.\n",
            "\n",
            "You can install it with `pip install dask[dataframe]` or `conda install dask`.\n",
            "This will raise in a future version.\n",
            "\n",
            "  warnings.warn(msg, FutureWarning)\n"
          ]
        }
      ],
      "source": [
        "import joblib\n",
        "import pandas as pd\n",
        "from lightgbm import LGBMClassifier\n",
        "from sklearn.ensemble import RandomForestClassifier, GradientBoostingClassifier, VotingClassifier, AdaBoostClassifier\n",
        "from sklearn.linear_model import LogisticRegression\n",
        "from sklearn.model_selection import cross_validate, GridSearchCV\n",
        "from sklearn.neighbors import KNeighborsClassifier\n",
        "from sklearn.preprocessing import StandardScaler\n",
        "from sklearn.svm import SVC\n",
        "from sklearn.tree import DecisionTreeClassifier\n",
        "from xgboost import XGBClassifier"
      ]
    },
    {
      "cell_type": "code",
      "source": [
        "import matplotlib.pyplot as plt\n",
        "import seaborn as sns"
      ],
      "metadata": {
        "id": "TtUZ2WexTIaa"
      },
      "execution_count": 2,
      "outputs": []
    },
    {
      "cell_type": "code",
      "source": [
        "!pip install catboost"
      ],
      "metadata": {
        "colab": {
          "base_uri": "https://localhost:8080/"
        },
        "collapsed": true,
        "id": "CKt4p3DsT-Li",
        "outputId": "e2cbd9eb-7c4a-4807-b258-5b6d673d830c"
      },
      "execution_count": 3,
      "outputs": [
        {
          "output_type": "stream",
          "name": "stdout",
          "text": [
            "Collecting catboost\n",
            "  Downloading catboost-1.2.7-cp311-cp311-manylinux2014_x86_64.whl.metadata (1.2 kB)\n",
            "Requirement already satisfied: graphviz in /usr/local/lib/python3.11/dist-packages (from catboost) (0.20.3)\n",
            "Requirement already satisfied: matplotlib in /usr/local/lib/python3.11/dist-packages (from catboost) (3.10.0)\n",
            "Requirement already satisfied: numpy<2.0,>=1.16.0 in /usr/local/lib/python3.11/dist-packages (from catboost) (1.26.4)\n",
            "Requirement already satisfied: pandas>=0.24 in /usr/local/lib/python3.11/dist-packages (from catboost) (2.2.2)\n",
            "Requirement already satisfied: scipy in /usr/local/lib/python3.11/dist-packages (from catboost) (1.13.1)\n",
            "Requirement already satisfied: plotly in /usr/local/lib/python3.11/dist-packages (from catboost) (5.24.1)\n",
            "Requirement already satisfied: six in /usr/local/lib/python3.11/dist-packages (from catboost) (1.17.0)\n",
            "Requirement already satisfied: python-dateutil>=2.8.2 in /usr/local/lib/python3.11/dist-packages (from pandas>=0.24->catboost) (2.8.2)\n",
            "Requirement already satisfied: pytz>=2020.1 in /usr/local/lib/python3.11/dist-packages (from pandas>=0.24->catboost) (2024.2)\n",
            "Requirement already satisfied: tzdata>=2022.7 in /usr/local/lib/python3.11/dist-packages (from pandas>=0.24->catboost) (2025.1)\n",
            "Requirement already satisfied: contourpy>=1.0.1 in /usr/local/lib/python3.11/dist-packages (from matplotlib->catboost) (1.3.1)\n",
            "Requirement already satisfied: cycler>=0.10 in /usr/local/lib/python3.11/dist-packages (from matplotlib->catboost) (0.12.1)\n",
            "Requirement already satisfied: fonttools>=4.22.0 in /usr/local/lib/python3.11/dist-packages (from matplotlib->catboost) (4.55.4)\n",
            "Requirement already satisfied: kiwisolver>=1.3.1 in /usr/local/lib/python3.11/dist-packages (from matplotlib->catboost) (1.4.8)\n",
            "Requirement already satisfied: packaging>=20.0 in /usr/local/lib/python3.11/dist-packages (from matplotlib->catboost) (24.2)\n",
            "Requirement already satisfied: pillow>=8 in /usr/local/lib/python3.11/dist-packages (from matplotlib->catboost) (11.1.0)\n",
            "Requirement already satisfied: pyparsing>=2.3.1 in /usr/local/lib/python3.11/dist-packages (from matplotlib->catboost) (3.2.1)\n",
            "Requirement already satisfied: tenacity>=6.2.0 in /usr/local/lib/python3.11/dist-packages (from plotly->catboost) (9.0.0)\n",
            "Downloading catboost-1.2.7-cp311-cp311-manylinux2014_x86_64.whl (98.7 MB)\n",
            "\u001b[2K   \u001b[90m━━━━━━━━━━━━━━━━━━━━━━━━━━━━━━━━━━━━━━━━\u001b[0m \u001b[32m98.7/98.7 MB\u001b[0m \u001b[31m8.1 MB/s\u001b[0m eta \u001b[36m0:00:00\u001b[0m\n",
            "\u001b[?25hInstalling collected packages: catboost\n",
            "Successfully installed catboost-1.2.7\n"
          ]
        }
      ]
    },
    {
      "cell_type": "code",
      "source": [
        "!pip install lightgbm"
      ],
      "metadata": {
        "colab": {
          "base_uri": "https://localhost:8080/"
        },
        "collapsed": true,
        "id": "szGGTZ4RT-Ak",
        "outputId": "773e60d5-390c-4a35-d9c3-4b6f36dc1b23"
      },
      "execution_count": 4,
      "outputs": [
        {
          "output_type": "stream",
          "name": "stdout",
          "text": [
            "Requirement already satisfied: lightgbm in /usr/local/lib/python3.11/dist-packages (4.5.0)\n",
            "Requirement already satisfied: numpy>=1.17.0 in /usr/local/lib/python3.11/dist-packages (from lightgbm) (1.26.4)\n",
            "Requirement already satisfied: scipy in /usr/local/lib/python3.11/dist-packages (from lightgbm) (1.13.1)\n"
          ]
        }
      ]
    },
    {
      "cell_type": "code",
      "source": [
        "!pip install xgboost"
      ],
      "metadata": {
        "colab": {
          "base_uri": "https://localhost:8080/"
        },
        "collapsed": true,
        "id": "PlOH3ITyT99R",
        "outputId": "5c221056-f173-4643-ee20-8caf5c2b3a34"
      },
      "execution_count": 5,
      "outputs": [
        {
          "output_type": "stream",
          "name": "stdout",
          "text": [
            "Requirement already satisfied: xgboost in /usr/local/lib/python3.11/dist-packages (2.1.3)\n",
            "Requirement already satisfied: numpy in /usr/local/lib/python3.11/dist-packages (from xgboost) (1.26.4)\n",
            "Requirement already satisfied: nvidia-nccl-cu12 in /usr/local/lib/python3.11/dist-packages (from xgboost) (2.21.5)\n",
            "Requirement already satisfied: scipy in /usr/local/lib/python3.11/dist-packages (from xgboost) (1.13.1)\n"
          ]
        }
      ]
    },
    {
      "cell_type": "code",
      "source": [
        "from xgboost import XGBClassifier\n",
        "from lightgbm import LGBMClassifier\n",
        "from catboost import CatBoostClassifier"
      ],
      "metadata": {
        "id": "OiA2JqZFT9qa"
      },
      "execution_count": 7,
      "outputs": []
    },
    {
      "cell_type": "code",
      "source": [
        "pd.set_option('display.max_columns', None)\n",
        "pd.set_option('display.width', 500)"
      ],
      "metadata": {
        "id": "uDtzorGyUej8"
      },
      "execution_count": 8,
      "outputs": []
    },
    {
      "cell_type": "markdown",
      "source": [
        "Keşifçi Veri Analizi ( EDA )"
      ],
      "metadata": {
        "id": "CyAHuhInUEEw"
      }
    },
    {
      "cell_type": "code",
      "source": [
        "def load():\n",
        "  df = pd.read_csv(\"/content/diabetes.csv\")\n",
        "  return df\n",
        "\n",
        "df = load()"
      ],
      "metadata": {
        "id": "zBhrmSunUnTo"
      },
      "execution_count": 12,
      "outputs": []
    },
    {
      "cell_type": "code",
      "source": [
        "#Veri Setine Ön Bakış"
      ],
      "metadata": {
        "id": "YXqpPSr3UuDk"
      },
      "execution_count": null,
      "outputs": []
    },
    {
      "cell_type": "code",
      "source": [
        "def check_df(dataframe, head=5):\n",
        "    print(\"##################### Shape #####################\")\n",
        "    print(dataframe.shape)\n",
        "    print(\"##################### Types #####################\")\n",
        "    print(dataframe.dtypes)\n",
        "    print(\"##################### Head #####################\")\n",
        "    print(dataframe.head(head))\n",
        "    print(\"##################### Tail #####################\")\n",
        "    print(dataframe.tail(head))\n",
        "    print(\"##################### NA #####################\")\n",
        "    print(dataframe.isnull().sum())\n",
        "    print(\"##################### Quantiles #####################\")\n",
        "    print(dataframe.quantile([0, 0.05, 0.50, 0.95, 0.99, 1]).T)"
      ],
      "metadata": {
        "id": "sFzs3GYXUFqu"
      },
      "execution_count": 9,
      "outputs": []
    },
    {
      "cell_type": "code",
      "source": [
        "#Kategorik ve Numerik Değişken Analizi"
      ],
      "metadata": {
        "id": "1YcQsd3BUwdi"
      },
      "execution_count": null,
      "outputs": []
    },
    {
      "cell_type": "code",
      "source": [
        "def cat_summary(dataframe, col_name, plot=False):\n",
        "    print(pd.DataFrame({col_name: dataframe[col_name].value_counts(),\n",
        "                        \"Ratio\": 100 * dataframe[col_name].value_counts() / len(dataframe)}))\n",
        "    print(\"##########################################\")\n",
        "    if plot:\n",
        "        sns.countplot(x=dataframe[col_name], data=dataframe)\n",
        "        plt.show(block=True)"
      ],
      "metadata": {
        "id": "6XaO-zbWUg5F"
      },
      "execution_count": 10,
      "outputs": []
    },
    {
      "cell_type": "code",
      "source": [
        "def num_summary(dataframe, numerical_col, plot=False):\n",
        "  quantiles = [0.05, 0.10, 0.20, 0.30, 0.40, 0.50, 0.60, 0.70, 0.80, 0.90, 0.95, 0.99]\n",
        "  print(dataframe[numerical_col].describe(quantiles).T)\n",
        "  if plot:\n",
        "    dataframe[numerical_col].hist(bins=20)\n",
        "    plt.xlabel(numerical_col)\n",
        "    plt.title(numerical_col)\n",
        "    plt.show(block=True)"
      ],
      "metadata": {
        "id": "_cAfk03kU2XC"
      },
      "execution_count": 13,
      "outputs": []
    },
    {
      "cell_type": "code",
      "source": [
        "#Bağımlı Değişken Analizi"
      ],
      "metadata": {
        "id": "dujD6uHKU53N"
      },
      "execution_count": null,
      "outputs": []
    },
    {
      "cell_type": "code",
      "source": [
        "def target_summary_with_num(dataframe, target, numerical_col):\n",
        "  print(dataframe.groupby(target).agg({numerical_col: \"mean\"}), end=\"\\n\\n\\n\")\n",
        "\n",
        "def target_summary_with_cat(dataframe, target, categorical_col):\n",
        "  print(pd.DataFrame({\"TARGET_MEAN\": dataframe.groupby(categorical_col)[target].mean()}), end=\"\\n\\n\\n\")"
      ],
      "metadata": {
        "id": "6d42gMdkU7jt"
      },
      "execution_count": 14,
      "outputs": []
    },
    {
      "cell_type": "code",
      "source": [
        "#Korelasyon Matrisi"
      ],
      "metadata": {
        "id": "FhU4XQQbU8TA"
      },
      "execution_count": null,
      "outputs": []
    },
    {
      "cell_type": "code",
      "source": [
        "def corr_matrix(df, cols):\n",
        "  fig = plt.gcf()\n",
        "  fig.set_size_inches(10, 8)\n",
        "  plt.xticks(fontsize=10)\n",
        "  plt.yticks(fontsize=10)\n",
        "  fig = sns.heatmap(df[cols].corr(), annot=True, linewidths=0.5, annot_kws={'size':12}, linecolor='w', cmap='RdBu')\n",
        "  plt.show(block=True)"
      ],
      "metadata": {
        "id": "xcGMQPEgU_3w"
      },
      "execution_count": 15,
      "outputs": []
    },
    {
      "cell_type": "code",
      "source": [
        "#Kategorik ve Numerik Sütunlar"
      ],
      "metadata": {
        "id": "SAcMNpz6VA8A"
      },
      "execution_count": null,
      "outputs": []
    },
    {
      "cell_type": "code",
      "source": [
        "def grab_col_names(dataframe, cat_th=10, car_th=20):\n",
        "  cat_cols = [col for col in dataframe.columns if dataframe[col].dtypes == \"O\"]\n",
        "  num_but_cat = [col for col in dataframe.columns if dataframe[col].nunique() < cat_th and dataframe[col].dtypes != \"O\"]\n",
        "  cat_but_car = [col for col in dataframe.columns if dataframe[col].nunique() > car_th and dataframe[col].dtypes == \"O\"]\n",
        "  cat_cols = cat_cols + num_but_cat\n",
        "  cat_cols = [col for col in cat_cols if col not in cat_but_car]\n",
        "\n",
        "  num_cols = [col for col in dataframe.columns if dataframe[col].dtypes != \"O\"]\n",
        "  num_cols = [col for col in num_cols if col not in num_but_cat]\n",
        "\n",
        "  print(f\"Observations: {dataframe.shape[0]}\")\n",
        "  print(f\"Variables: {dataframe.shape[1]}\")\n",
        "  print(f'cat_cols: {len(cat_cols)}')\n",
        "  print(f'num_cols: {len(num_cols)}')\n",
        "  print(f'cat_but_car: {len(cat_but_car)}')\n",
        "  print(f'num_but_cat: {len(num_but_cat)}')\n",
        "  return cat_cols, num_cols, cat_but_car"
      ],
      "metadata": {
        "id": "QZSqYBiBVA4y"
      },
      "execution_count": 16,
      "outputs": []
    },
    {
      "cell_type": "code",
      "source": [
        "check_df(df)"
      ],
      "metadata": {
        "colab": {
          "base_uri": "https://localhost:8080/"
        },
        "id": "TjyIOUe-VA1u",
        "outputId": "c77bbb2e-ddec-40a4-b403-6cd92cf6aaf5"
      },
      "execution_count": 17,
      "outputs": [
        {
          "output_type": "stream",
          "name": "stdout",
          "text": [
            "##################### Shape #####################\n",
            "(768, 9)\n",
            "##################### Types #####################\n",
            "Pregnancies                   int64\n",
            "Glucose                       int64\n",
            "BloodPressure                 int64\n",
            "SkinThickness                 int64\n",
            "Insulin                       int64\n",
            "BMI                         float64\n",
            "DiabetesPedigreeFunction    float64\n",
            "Age                           int64\n",
            "Outcome                       int64\n",
            "dtype: object\n",
            "##################### Head #####################\n",
            "   Pregnancies  Glucose  BloodPressure  SkinThickness  Insulin   BMI  DiabetesPedigreeFunction  Age  Outcome\n",
            "0            6      148             72             35        0  33.6                     0.627   50        1\n",
            "1            1       85             66             29        0  26.6                     0.351   31        0\n",
            "2            8      183             64              0        0  23.3                     0.672   32        1\n",
            "3            1       89             66             23       94  28.1                     0.167   21        0\n",
            "4            0      137             40             35      168  43.1                     2.288   33        1\n",
            "##################### Tail #####################\n",
            "     Pregnancies  Glucose  BloodPressure  SkinThickness  Insulin   BMI  DiabetesPedigreeFunction  Age  Outcome\n",
            "763           10      101             76             48      180  32.9                     0.171   63        0\n",
            "764            2      122             70             27        0  36.8                     0.340   27        0\n",
            "765            5      121             72             23      112  26.2                     0.245   30        0\n",
            "766            1      126             60              0        0  30.1                     0.349   47        1\n",
            "767            1       93             70             31        0  30.4                     0.315   23        0\n",
            "##################### NA #####################\n",
            "Pregnancies                 0\n",
            "Glucose                     0\n",
            "BloodPressure               0\n",
            "SkinThickness               0\n",
            "Insulin                     0\n",
            "BMI                         0\n",
            "DiabetesPedigreeFunction    0\n",
            "Age                         0\n",
            "Outcome                     0\n",
            "dtype: int64\n",
            "##################### Quantiles #####################\n",
            "                            0.00      0.05      0.50       0.95       0.99    1.00\n",
            "Pregnancies                0.000   0.00000    3.0000   10.00000   13.00000   17.00\n",
            "Glucose                    0.000  79.00000  117.0000  181.00000  196.00000  199.00\n",
            "BloodPressure              0.000  38.70000   72.0000   90.00000  106.00000  122.00\n",
            "SkinThickness              0.000   0.00000   23.0000   44.00000   51.33000   99.00\n",
            "Insulin                    0.000   0.00000   30.5000  293.00000  519.90000  846.00\n",
            "BMI                        0.000  21.80000   32.0000   44.39500   50.75900   67.10\n",
            "DiabetesPedigreeFunction   0.078   0.14035    0.3725    1.13285    1.69833    2.42\n",
            "Age                       21.000  21.00000   29.0000   58.00000   67.00000   81.00\n",
            "Outcome                    0.000   0.00000    0.0000    1.00000    1.00000    1.00\n"
          ]
        }
      ]
    },
    {
      "cell_type": "code",
      "source": [
        "cat_cols, num_cols, cat_but_car = grab_col_names(df, cat_th=5, car_th=20)\n",
        "cat_cols, num_cols"
      ],
      "metadata": {
        "colab": {
          "base_uri": "https://localhost:8080/"
        },
        "id": "DzfiRMdEVAzQ",
        "outputId": "fc176728-e3e1-4f3e-8efd-b7cba9ab5c55"
      },
      "execution_count": 18,
      "outputs": [
        {
          "output_type": "stream",
          "name": "stdout",
          "text": [
            "Observations: 768\n",
            "Variables: 9\n",
            "cat_cols: 1\n",
            "num_cols: 8\n",
            "cat_but_car: 0\n",
            "num_but_cat: 1\n"
          ]
        },
        {
          "output_type": "execute_result",
          "data": {
            "text/plain": [
              "(['Outcome'],\n",
              " ['Pregnancies',\n",
              "  'Glucose',\n",
              "  'BloodPressure',\n",
              "  'SkinThickness',\n",
              "  'Insulin',\n",
              "  'BMI',\n",
              "  'DiabetesPedigreeFunction',\n",
              "  'Age'])"
            ]
          },
          "metadata": {},
          "execution_count": 18
        }
      ]
    },
    {
      "cell_type": "code",
      "source": [
        "for col in cat_cols:\n",
        "  cat_summary(df, col)"
      ],
      "metadata": {
        "colab": {
          "base_uri": "https://localhost:8080/"
        },
        "id": "EbYFmgeTVIkJ",
        "outputId": "39a7e2bc-1b72-4754-b97d-7e70eac4f26a"
      },
      "execution_count": 19,
      "outputs": [
        {
          "output_type": "stream",
          "name": "stdout",
          "text": [
            "         Outcome      Ratio\n",
            "Outcome                    \n",
            "0            500  65.104167\n",
            "1            268  34.895833\n",
            "##########################################\n"
          ]
        }
      ]
    },
    {
      "cell_type": "code",
      "source": [
        "df[num_cols].describe().T"
      ],
      "metadata": {
        "colab": {
          "base_uri": "https://localhost:8080/",
          "height": 320
        },
        "id": "MJblXFoIVIiD",
        "outputId": "d90bcaa5-eda4-462e-9e68-0599514281d4"
      },
      "execution_count": 20,
      "outputs": [
        {
          "output_type": "execute_result",
          "data": {
            "text/plain": [
              "                          count        mean         std     min       25%       50%        75%     max\n",
              "Pregnancies               768.0    3.845052    3.369578   0.000   1.00000    3.0000    6.00000   17.00\n",
              "Glucose                   768.0  120.894531   31.972618   0.000  99.00000  117.0000  140.25000  199.00\n",
              "BloodPressure             768.0   69.105469   19.355807   0.000  62.00000   72.0000   80.00000  122.00\n",
              "SkinThickness             768.0   20.536458   15.952218   0.000   0.00000   23.0000   32.00000   99.00\n",
              "Insulin                   768.0   79.799479  115.244002   0.000   0.00000   30.5000  127.25000  846.00\n",
              "BMI                       768.0   31.992578    7.884160   0.000  27.30000   32.0000   36.60000   67.10\n",
              "DiabetesPedigreeFunction  768.0    0.471876    0.331329   0.078   0.24375    0.3725    0.62625    2.42\n",
              "Age                       768.0   33.240885   11.760232  21.000  24.00000   29.0000   41.00000   81.00"
            ],
            "text/html": [
              "\n",
              "  <div id=\"df-446d1505-e32c-44ee-bb6f-4b75b48a2d7b\" class=\"colab-df-container\">\n",
              "    <div>\n",
              "<style scoped>\n",
              "    .dataframe tbody tr th:only-of-type {\n",
              "        vertical-align: middle;\n",
              "    }\n",
              "\n",
              "    .dataframe tbody tr th {\n",
              "        vertical-align: top;\n",
              "    }\n",
              "\n",
              "    .dataframe thead th {\n",
              "        text-align: right;\n",
              "    }\n",
              "</style>\n",
              "<table border=\"1\" class=\"dataframe\">\n",
              "  <thead>\n",
              "    <tr style=\"text-align: right;\">\n",
              "      <th></th>\n",
              "      <th>count</th>\n",
              "      <th>mean</th>\n",
              "      <th>std</th>\n",
              "      <th>min</th>\n",
              "      <th>25%</th>\n",
              "      <th>50%</th>\n",
              "      <th>75%</th>\n",
              "      <th>max</th>\n",
              "    </tr>\n",
              "  </thead>\n",
              "  <tbody>\n",
              "    <tr>\n",
              "      <th>Pregnancies</th>\n",
              "      <td>768.0</td>\n",
              "      <td>3.845052</td>\n",
              "      <td>3.369578</td>\n",
              "      <td>0.000</td>\n",
              "      <td>1.00000</td>\n",
              "      <td>3.0000</td>\n",
              "      <td>6.00000</td>\n",
              "      <td>17.00</td>\n",
              "    </tr>\n",
              "    <tr>\n",
              "      <th>Glucose</th>\n",
              "      <td>768.0</td>\n",
              "      <td>120.894531</td>\n",
              "      <td>31.972618</td>\n",
              "      <td>0.000</td>\n",
              "      <td>99.00000</td>\n",
              "      <td>117.0000</td>\n",
              "      <td>140.25000</td>\n",
              "      <td>199.00</td>\n",
              "    </tr>\n",
              "    <tr>\n",
              "      <th>BloodPressure</th>\n",
              "      <td>768.0</td>\n",
              "      <td>69.105469</td>\n",
              "      <td>19.355807</td>\n",
              "      <td>0.000</td>\n",
              "      <td>62.00000</td>\n",
              "      <td>72.0000</td>\n",
              "      <td>80.00000</td>\n",
              "      <td>122.00</td>\n",
              "    </tr>\n",
              "    <tr>\n",
              "      <th>SkinThickness</th>\n",
              "      <td>768.0</td>\n",
              "      <td>20.536458</td>\n",
              "      <td>15.952218</td>\n",
              "      <td>0.000</td>\n",
              "      <td>0.00000</td>\n",
              "      <td>23.0000</td>\n",
              "      <td>32.00000</td>\n",
              "      <td>99.00</td>\n",
              "    </tr>\n",
              "    <tr>\n",
              "      <th>Insulin</th>\n",
              "      <td>768.0</td>\n",
              "      <td>79.799479</td>\n",
              "      <td>115.244002</td>\n",
              "      <td>0.000</td>\n",
              "      <td>0.00000</td>\n",
              "      <td>30.5000</td>\n",
              "      <td>127.25000</td>\n",
              "      <td>846.00</td>\n",
              "    </tr>\n",
              "    <tr>\n",
              "      <th>BMI</th>\n",
              "      <td>768.0</td>\n",
              "      <td>31.992578</td>\n",
              "      <td>7.884160</td>\n",
              "      <td>0.000</td>\n",
              "      <td>27.30000</td>\n",
              "      <td>32.0000</td>\n",
              "      <td>36.60000</td>\n",
              "      <td>67.10</td>\n",
              "    </tr>\n",
              "    <tr>\n",
              "      <th>DiabetesPedigreeFunction</th>\n",
              "      <td>768.0</td>\n",
              "      <td>0.471876</td>\n",
              "      <td>0.331329</td>\n",
              "      <td>0.078</td>\n",
              "      <td>0.24375</td>\n",
              "      <td>0.3725</td>\n",
              "      <td>0.62625</td>\n",
              "      <td>2.42</td>\n",
              "    </tr>\n",
              "    <tr>\n",
              "      <th>Age</th>\n",
              "      <td>768.0</td>\n",
              "      <td>33.240885</td>\n",
              "      <td>11.760232</td>\n",
              "      <td>21.000</td>\n",
              "      <td>24.00000</td>\n",
              "      <td>29.0000</td>\n",
              "      <td>41.00000</td>\n",
              "      <td>81.00</td>\n",
              "    </tr>\n",
              "  </tbody>\n",
              "</table>\n",
              "</div>\n",
              "    <div class=\"colab-df-buttons\">\n",
              "\n",
              "  <div class=\"colab-df-container\">\n",
              "    <button class=\"colab-df-convert\" onclick=\"convertToInteractive('df-446d1505-e32c-44ee-bb6f-4b75b48a2d7b')\"\n",
              "            title=\"Convert this dataframe to an interactive table.\"\n",
              "            style=\"display:none;\">\n",
              "\n",
              "  <svg xmlns=\"http://www.w3.org/2000/svg\" height=\"24px\" viewBox=\"0 -960 960 960\">\n",
              "    <path d=\"M120-120v-720h720v720H120Zm60-500h600v-160H180v160Zm220 220h160v-160H400v160Zm0 220h160v-160H400v160ZM180-400h160v-160H180v160Zm440 0h160v-160H620v160ZM180-180h160v-160H180v160Zm440 0h160v-160H620v160Z\"/>\n",
              "  </svg>\n",
              "    </button>\n",
              "\n",
              "  <style>\n",
              "    .colab-df-container {\n",
              "      display:flex;\n",
              "      gap: 12px;\n",
              "    }\n",
              "\n",
              "    .colab-df-convert {\n",
              "      background-color: #E8F0FE;\n",
              "      border: none;\n",
              "      border-radius: 50%;\n",
              "      cursor: pointer;\n",
              "      display: none;\n",
              "      fill: #1967D2;\n",
              "      height: 32px;\n",
              "      padding: 0 0 0 0;\n",
              "      width: 32px;\n",
              "    }\n",
              "\n",
              "    .colab-df-convert:hover {\n",
              "      background-color: #E2EBFA;\n",
              "      box-shadow: 0px 1px 2px rgba(60, 64, 67, 0.3), 0px 1px 3px 1px rgba(60, 64, 67, 0.15);\n",
              "      fill: #174EA6;\n",
              "    }\n",
              "\n",
              "    .colab-df-buttons div {\n",
              "      margin-bottom: 4px;\n",
              "    }\n",
              "\n",
              "    [theme=dark] .colab-df-convert {\n",
              "      background-color: #3B4455;\n",
              "      fill: #D2E3FC;\n",
              "    }\n",
              "\n",
              "    [theme=dark] .colab-df-convert:hover {\n",
              "      background-color: #434B5C;\n",
              "      box-shadow: 0px 1px 3px 1px rgba(0, 0, 0, 0.15);\n",
              "      filter: drop-shadow(0px 1px 2px rgba(0, 0, 0, 0.3));\n",
              "      fill: #FFFFFF;\n",
              "    }\n",
              "  </style>\n",
              "\n",
              "    <script>\n",
              "      const buttonEl =\n",
              "        document.querySelector('#df-446d1505-e32c-44ee-bb6f-4b75b48a2d7b button.colab-df-convert');\n",
              "      buttonEl.style.display =\n",
              "        google.colab.kernel.accessAllowed ? 'block' : 'none';\n",
              "\n",
              "      async function convertToInteractive(key) {\n",
              "        const element = document.querySelector('#df-446d1505-e32c-44ee-bb6f-4b75b48a2d7b');\n",
              "        const dataTable =\n",
              "          await google.colab.kernel.invokeFunction('convertToInteractive',\n",
              "                                                    [key], {});\n",
              "        if (!dataTable) return;\n",
              "\n",
              "        const docLinkHtml = 'Like what you see? Visit the ' +\n",
              "          '<a target=\"_blank\" href=https://colab.research.google.com/notebooks/data_table.ipynb>data table notebook</a>'\n",
              "          + ' to learn more about interactive tables.';\n",
              "        element.innerHTML = '';\n",
              "        dataTable['output_type'] = 'display_data';\n",
              "        await google.colab.output.renderOutput(dataTable, element);\n",
              "        const docLink = document.createElement('div');\n",
              "        docLink.innerHTML = docLinkHtml;\n",
              "        element.appendChild(docLink);\n",
              "      }\n",
              "    </script>\n",
              "  </div>\n",
              "\n",
              "\n",
              "<div id=\"df-c2094fe3-f160-4050-9bc7-6792c80be2ef\">\n",
              "  <button class=\"colab-df-quickchart\" onclick=\"quickchart('df-c2094fe3-f160-4050-9bc7-6792c80be2ef')\"\n",
              "            title=\"Suggest charts\"\n",
              "            style=\"display:none;\">\n",
              "\n",
              "<svg xmlns=\"http://www.w3.org/2000/svg\" height=\"24px\"viewBox=\"0 0 24 24\"\n",
              "     width=\"24px\">\n",
              "    <g>\n",
              "        <path d=\"M19 3H5c-1.1 0-2 .9-2 2v14c0 1.1.9 2 2 2h14c1.1 0 2-.9 2-2V5c0-1.1-.9-2-2-2zM9 17H7v-7h2v7zm4 0h-2V7h2v10zm4 0h-2v-4h2v4z\"/>\n",
              "    </g>\n",
              "</svg>\n",
              "  </button>\n",
              "\n",
              "<style>\n",
              "  .colab-df-quickchart {\n",
              "      --bg-color: #E8F0FE;\n",
              "      --fill-color: #1967D2;\n",
              "      --hover-bg-color: #E2EBFA;\n",
              "      --hover-fill-color: #174EA6;\n",
              "      --disabled-fill-color: #AAA;\n",
              "      --disabled-bg-color: #DDD;\n",
              "  }\n",
              "\n",
              "  [theme=dark] .colab-df-quickchart {\n",
              "      --bg-color: #3B4455;\n",
              "      --fill-color: #D2E3FC;\n",
              "      --hover-bg-color: #434B5C;\n",
              "      --hover-fill-color: #FFFFFF;\n",
              "      --disabled-bg-color: #3B4455;\n",
              "      --disabled-fill-color: #666;\n",
              "  }\n",
              "\n",
              "  .colab-df-quickchart {\n",
              "    background-color: var(--bg-color);\n",
              "    border: none;\n",
              "    border-radius: 50%;\n",
              "    cursor: pointer;\n",
              "    display: none;\n",
              "    fill: var(--fill-color);\n",
              "    height: 32px;\n",
              "    padding: 0;\n",
              "    width: 32px;\n",
              "  }\n",
              "\n",
              "  .colab-df-quickchart:hover {\n",
              "    background-color: var(--hover-bg-color);\n",
              "    box-shadow: 0 1px 2px rgba(60, 64, 67, 0.3), 0 1px 3px 1px rgba(60, 64, 67, 0.15);\n",
              "    fill: var(--button-hover-fill-color);\n",
              "  }\n",
              "\n",
              "  .colab-df-quickchart-complete:disabled,\n",
              "  .colab-df-quickchart-complete:disabled:hover {\n",
              "    background-color: var(--disabled-bg-color);\n",
              "    fill: var(--disabled-fill-color);\n",
              "    box-shadow: none;\n",
              "  }\n",
              "\n",
              "  .colab-df-spinner {\n",
              "    border: 2px solid var(--fill-color);\n",
              "    border-color: transparent;\n",
              "    border-bottom-color: var(--fill-color);\n",
              "    animation:\n",
              "      spin 1s steps(1) infinite;\n",
              "  }\n",
              "\n",
              "  @keyframes spin {\n",
              "    0% {\n",
              "      border-color: transparent;\n",
              "      border-bottom-color: var(--fill-color);\n",
              "      border-left-color: var(--fill-color);\n",
              "    }\n",
              "    20% {\n",
              "      border-color: transparent;\n",
              "      border-left-color: var(--fill-color);\n",
              "      border-top-color: var(--fill-color);\n",
              "    }\n",
              "    30% {\n",
              "      border-color: transparent;\n",
              "      border-left-color: var(--fill-color);\n",
              "      border-top-color: var(--fill-color);\n",
              "      border-right-color: var(--fill-color);\n",
              "    }\n",
              "    40% {\n",
              "      border-color: transparent;\n",
              "      border-right-color: var(--fill-color);\n",
              "      border-top-color: var(--fill-color);\n",
              "    }\n",
              "    60% {\n",
              "      border-color: transparent;\n",
              "      border-right-color: var(--fill-color);\n",
              "    }\n",
              "    80% {\n",
              "      border-color: transparent;\n",
              "      border-right-color: var(--fill-color);\n",
              "      border-bottom-color: var(--fill-color);\n",
              "    }\n",
              "    90% {\n",
              "      border-color: transparent;\n",
              "      border-bottom-color: var(--fill-color);\n",
              "    }\n",
              "  }\n",
              "</style>\n",
              "\n",
              "  <script>\n",
              "    async function quickchart(key) {\n",
              "      const quickchartButtonEl =\n",
              "        document.querySelector('#' + key + ' button');\n",
              "      quickchartButtonEl.disabled = true;  // To prevent multiple clicks.\n",
              "      quickchartButtonEl.classList.add('colab-df-spinner');\n",
              "      try {\n",
              "        const charts = await google.colab.kernel.invokeFunction(\n",
              "            'suggestCharts', [key], {});\n",
              "      } catch (error) {\n",
              "        console.error('Error during call to suggestCharts:', error);\n",
              "      }\n",
              "      quickchartButtonEl.classList.remove('colab-df-spinner');\n",
              "      quickchartButtonEl.classList.add('colab-df-quickchart-complete');\n",
              "    }\n",
              "    (() => {\n",
              "      let quickchartButtonEl =\n",
              "        document.querySelector('#df-c2094fe3-f160-4050-9bc7-6792c80be2ef button');\n",
              "      quickchartButtonEl.style.display =\n",
              "        google.colab.kernel.accessAllowed ? 'block' : 'none';\n",
              "    })();\n",
              "  </script>\n",
              "</div>\n",
              "\n",
              "    </div>\n",
              "  </div>\n"
            ],
            "application/vnd.google.colaboratory.intrinsic+json": {
              "type": "dataframe",
              "summary": "{\n  \"name\": \"df[num_cols]\",\n  \"rows\": 8,\n  \"fields\": [\n    {\n      \"column\": \"count\",\n      \"properties\": {\n        \"dtype\": \"number\",\n        \"std\": 0.0,\n        \"min\": 768.0,\n        \"max\": 768.0,\n        \"num_unique_values\": 1,\n        \"samples\": [\n          768.0\n        ],\n        \"semantic_type\": \"\",\n        \"description\": \"\"\n      }\n    },\n    {\n      \"column\": \"mean\",\n      \"properties\": {\n        \"dtype\": \"number\",\n        \"std\": 41.63527666540936,\n        \"min\": 0.47187630208333325,\n        \"max\": 120.89453125,\n        \"num_unique_values\": 8,\n        \"samples\": [\n          120.89453125\n        ],\n        \"semantic_type\": \"\",\n        \"description\": \"\"\n      }\n    },\n    {\n      \"column\": \"std\",\n      \"properties\": {\n        \"dtype\": \"number\",\n        \"std\": 37.50556445069367,\n        \"min\": 0.33132859501277484,\n        \"max\": 115.24400235133837,\n        \"num_unique_values\": 8,\n        \"samples\": [\n          31.97261819513622\n        ],\n        \"semantic_type\": \"\",\n        \"description\": \"\"\n      }\n    },\n    {\n      \"column\": \"min\",\n      \"properties\": {\n        \"dtype\": \"number\",\n        \"std\": 7.420731803535282,\n        \"min\": 0.0,\n        \"max\": 21.0,\n        \"num_unique_values\": 3,\n        \"samples\": [\n          0.0\n        ],\n        \"semantic_type\": \"\",\n        \"description\": \"\"\n      }\n    },\n    {\n      \"column\": \"25%\",\n      \"properties\": {\n        \"dtype\": \"number\",\n        \"std\": 36.385304664215916,\n        \"min\": 0.0,\n        \"max\": 99.0,\n        \"num_unique_values\": 7,\n        \"samples\": [\n          1.0\n        ],\n        \"semantic_type\": \"\",\n        \"description\": \"\"\n      }\n    },\n    {\n      \"column\": \"50%\",\n      \"properties\": {\n        \"dtype\": \"number\",\n        \"std\": 38.609856900646406,\n        \"min\": 0.3725,\n        \"max\": 117.0,\n        \"num_unique_values\": 8,\n        \"samples\": [\n          117.0\n        ],\n        \"semantic_type\": \"\",\n        \"description\": \"\"\n      }\n    },\n    {\n      \"column\": \"75%\",\n      \"properties\": {\n        \"dtype\": \"number\",\n        \"std\": 52.73020660694763,\n        \"min\": 0.62625,\n        \"max\": 140.25,\n        \"num_unique_values\": 8,\n        \"samples\": [\n          140.25\n        ],\n        \"semantic_type\": \"\",\n        \"description\": \"\"\n      }\n    },\n    {\n      \"column\": \"max\",\n      \"properties\": {\n        \"dtype\": \"number\",\n        \"std\": 276.32481342486363,\n        \"min\": 2.42,\n        \"max\": 846.0,\n        \"num_unique_values\": 8,\n        \"samples\": [\n          199.0\n        ],\n        \"semantic_type\": \"\",\n        \"description\": \"\"\n      }\n    }\n  ]\n}"
            }
          },
          "metadata": {},
          "execution_count": 20
        }
      ]
    },
    {
      "cell_type": "code",
      "source": [
        "for col in num_cols:\n",
        "  num_summary(df, col, plot=True)"
      ],
      "metadata": {
        "colab": {
          "base_uri": "https://localhost:8080/",
          "height": 1000
        },
        "id": "tG8oaTKyVIfc",
        "outputId": "f949cc12-a3f7-4d33-961b-39b1efd70746"
      },
      "execution_count": 21,
      "outputs": [
        {
          "output_type": "stream",
          "name": "stdout",
          "text": [
            "count    768.000000\n",
            "mean       3.845052\n",
            "std        3.369578\n",
            "min        0.000000\n",
            "5%         0.000000\n",
            "10%        0.000000\n",
            "20%        1.000000\n",
            "30%        1.000000\n",
            "40%        2.000000\n",
            "50%        3.000000\n",
            "60%        4.000000\n",
            "70%        5.000000\n",
            "80%        7.000000\n",
            "90%        9.000000\n",
            "95%       10.000000\n",
            "99%       13.000000\n",
            "max       17.000000\n",
            "Name: Pregnancies, dtype: float64\n"
          ]
        },
        {
          "output_type": "display_data",
          "data": {
            "text/plain": [
              "<Figure size 640x480 with 1 Axes>"
            ],
            "image/png": "[encoded data removed]"
          },
          "metadata": {}
        },
        {
          "output_type": "stream",
          "name": "stdout",
          "text": [
            "count    768.000000\n",
            "mean     120.894531\n",
            "std       31.972618\n",
            "min        0.000000\n",
            "5%        79.000000\n",
            "10%       85.000000\n",
            "20%       95.000000\n",
            "30%      102.000000\n",
            "40%      109.000000\n",
            "50%      117.000000\n",
            "60%      125.000000\n",
            "70%      134.000000\n",
            "80%      147.000000\n",
            "90%      167.000000\n",
            "95%      181.000000\n",
            "99%      196.000000\n",
            "max      199.000000\n",
            "Name: Glucose, dtype: float64\n"
          ]
        },
        {
          "output_type": "display_data",
          "data": {
            "text/plain": [
              "<Figure size 640x480 with 1 Axes>"
            ],
            "image/png": "[encoded data removed]"
          },
          "metadata": {}
        },
        {
          "output_type": "stream",
          "name": "stdout",
          "text": [
            "count    768.000000\n",
            "mean      69.105469\n",
            "std       19.355807\n",
            "min        0.000000\n",
            "5%        38.700000\n",
            "10%       54.000000\n",
            "20%       60.000000\n",
            "30%       64.000000\n",
            "40%       68.000000\n",
            "50%       72.000000\n",
            "60%       74.000000\n",
            "70%       78.000000\n",
            "80%       82.000000\n",
            "90%       88.000000\n",
            "95%       90.000000\n",
            "99%      106.000000\n",
            "max      122.000000\n",
            "Name: BloodPressure, dtype: float64\n"
          ]
        },
        {
          "output_type": "display_data",
          "data": {
            "text/plain": [
              "<Figure size 640x480 with 1 Axes>"
            ],
            "image/png": "[encoded data removed]"
          },
          "metadata": {}
        },
        {
          "output_type": "stream",
          "name": "stdout",
          "text": [
            "count    768.000000\n",
            "mean      20.536458\n",
            "std       15.952218\n",
            "min        0.000000\n",
            "5%         0.000000\n",
            "10%        0.000000\n",
            "20%        0.000000\n",
            "30%        8.200000\n",
            "40%       18.000000\n",
            "50%       23.000000\n",
            "60%       27.000000\n",
            "70%       31.000000\n",
            "80%       35.000000\n",
            "90%       40.000000\n",
            "95%       44.000000\n",
            "99%       51.330000\n",
            "max       99.000000\n",
            "Name: SkinThickness, dtype: float64\n"
          ]
        },
        {
          "output_type": "display_data",
          "data": {
            "text/plain": [
              "<Figure size 640x480 with 1 Axes>"
            ],
            "image/png": "[encoded data removed]"
          },
          "metadata": {}
        },
        {
          "output_type": "stream",
          "name": "stdout",
          "text": [
            "count    768.000000\n",
            "mean      79.799479\n",
            "std      115.244002\n",
            "min        0.000000\n",
            "5%         0.000000\n",
            "10%        0.000000\n",
            "20%        0.000000\n",
            "30%        0.000000\n",
            "40%        0.000000\n",
            "50%       30.500000\n",
            "60%       72.200000\n",
            "70%      106.000000\n",
            "80%      150.000000\n",
            "90%      210.000000\n",
            "95%      293.000000\n",
            "99%      519.900000\n",
            "max      846.000000\n",
            "Name: Insulin, dtype: float64\n"
          ]
        },
        {
          "output_type": "display_data",
          "data": {
            "text/plain": [
              "<Figure size 640x480 with 1 Axes>"
            ],
            "image/png": "[encoded data removed]"
          },
          "metadata": {}
        },
        {
          "output_type": "stream",
          "name": "stdout",
          "text": [
            "count    768.000000\n",
            "mean      31.992578\n",
            "std        7.884160\n",
            "min        0.000000\n",
            "5%        21.800000\n",
            "10%       23.600000\n",
            "20%       25.900000\n",
            "30%       28.200000\n",
            "40%       30.100000\n",
            "50%       32.000000\n",
            "60%       33.700000\n",
            "70%       35.490000\n",
            "80%       37.800000\n",
            "90%       41.500000\n",
            "95%       44.395000\n",
            "99%       50.759000\n",
            "max       67.100000\n",
            "Name: BMI, dtype: float64\n"
          ]
        },
        {
          "output_type": "display_data",
          "data": {
            "text/plain": [
              "<Figure size 640x480 with 1 Axes>"
            ],
            "image/png": "[encoded data removed]"
          },
          "metadata": {}
        },
        {
          "output_type": "stream",
          "name": "stdout",
          "text": [
            "count    768.000000\n",
            "mean       0.471876\n",
            "std        0.331329\n",
            "min        0.078000\n",
            "5%         0.140350\n",
            "10%        0.165000\n",
            "20%        0.219400\n",
            "30%        0.259000\n",
            "40%        0.302800\n",
            "50%        0.372500\n",
            "60%        0.454200\n",
            "70%        0.563700\n",
            "80%        0.687000\n",
            "90%        0.878600\n",
            "95%        1.132850\n",
            "99%        1.698330\n",
            "max        2.420000\n",
            "Name: DiabetesPedigreeFunction, dtype: float64\n"
          ]
        },
        {
          "output_type": "display_data",
          "data": {
            "text/plain": [
              "<Figure size 640x480 with 1 Axes>"
            ],
            "image/png": "[encoded data removed]"
          },
          "metadata": {}
        },
        {
          "output_type": "stream",
          "name": "stdout",
          "text": [
            "count    768.000000\n",
            "mean      33.240885\n",
            "std       11.760232\n",
            "min       21.000000\n",
            "5%        21.000000\n",
            "10%       22.000000\n",
            "20%       23.000000\n",
            "30%       25.000000\n",
            "40%       27.000000\n",
            "50%       29.000000\n",
            "60%       33.000000\n",
            "70%       38.000000\n",
            "80%       42.600000\n",
            "90%       51.000000\n",
            "95%       58.000000\n",
            "99%       67.000000\n",
            "max       81.000000\n",
            "Name: Age, dtype: float64\n"
          ]
        },
        {
          "output_type": "display_data",
          "data": {
            "text/plain": [
              "<Figure size 640x480 with 1 Axes>"
            ],
            "image/png": "[encoded data removed]"
          },
          "metadata": {}
        }
      ]
    },
    {
      "cell_type": "code",
      "source": [
        "corr_matrix(df, num_cols)"
      ],
      "metadata": {
        "colab": {
          "base_uri": "https://localhost:8080/",
          "height": 578
        },
        "id": "zXMZ0LCFVhW5",
        "outputId": "c339e641-f2fb-4090-aaed-80dd1cc82417"
      },
      "execution_count": 22,
      "outputs": [
        {
          "output_type": "display_data",
          "data": {
            "text/plain": [
              "<Figure size 1000x800 with 2 Axes>"
            ],
            "image/png": "[encoded data removed]"
          },
          "metadata": {}
        }
      ]
    },
    {
      "cell_type": "code",
      "source": [
        "for col in num_cols:\n",
        "  target_summary_with_num(df, \"Outcome\", col)"
      ],
      "metadata": {
        "colab": {
          "base_uri": "https://localhost:8080/"
        },
        "id": "w9VyZXAGVhU6",
        "outputId": "ba2fa287-c9cb-4550-c0ab-0da13d935a63"
      },
      "execution_count": 23,
      "outputs": [
        {
          "output_type": "stream",
          "name": "stdout",
          "text": [
            "         Pregnancies\n",
            "Outcome             \n",
            "0           3.298000\n",
            "1           4.865672\n",
            "\n",
            "\n",
            "            Glucose\n",
            "Outcome            \n",
            "0        109.980000\n",
            "1        141.257463\n",
            "\n",
            "\n",
            "         BloodPressure\n",
            "Outcome               \n",
            "0            68.184000\n",
            "1            70.824627\n",
            "\n",
            "\n",
            "         SkinThickness\n",
            "Outcome               \n",
            "0            19.664000\n",
            "1            22.164179\n",
            "\n",
            "\n",
            "            Insulin\n",
            "Outcome            \n",
            "0         68.792000\n",
            "1        100.335821\n",
            "\n",
            "\n",
            "               BMI\n",
            "Outcome           \n",
            "0        30.304200\n",
            "1        35.142537\n",
            "\n",
            "\n",
            "         DiabetesPedigreeFunction\n",
            "Outcome                          \n",
            "0                        0.429734\n",
            "1                        0.550500\n",
            "\n",
            "\n",
            "               Age\n",
            "Outcome           \n",
            "0        31.190000\n",
            "1        37.067164\n",
            "\n",
            "\n"
          ]
        }
      ]
    },
    {
      "cell_type": "markdown",
      "source": [
        "Veri Ön İşleme"
      ],
      "metadata": {
        "id": "_ZMd9YTrVnxu"
      }
    },
    {
      "cell_type": "code",
      "source": [
        "#Aykırı Değerler"
      ],
      "metadata": {
        "id": "SAJRKxijVhTE"
      },
      "execution_count": null,
      "outputs": []
    },
    {
      "cell_type": "code",
      "source": [
        "def outlier_thresholds(dataframe, col_name, q1=0.05, q3=0.95):\n",
        "    quartile1 = dataframe[col_name].quantile(q1)\n",
        "    quartile3 = dataframe[col_name].quantile(q3)\n",
        "    interquartile_range = quartile3 - quartile1\n",
        "    up_limit = quartile3 + 1.5 * interquartile_range\n",
        "    low_limit = quartile1 - 1.5 * interquartile_range\n",
        "    return low_limit, up_limit"
      ],
      "metadata": {
        "id": "5eJhYU1OVhQ-"
      },
      "execution_count": 24,
      "outputs": []
    },
    {
      "cell_type": "code",
      "source": [
        "def replace_with_thresholds(dataframe, variable):\n",
        "  low_limit, up_limit = outlier_thresholds(dataframe, variable)\n",
        "  dataframe.loc[(dataframe[variable] < low_limit), variable] = low_limit\n",
        "  dataframe.loc[(dataframe[variable] > up_limit), variable] = up_limit"
      ],
      "metadata": {
        "id": "toNDxfbwVhOx"
      },
      "execution_count": 25,
      "outputs": []
    },
    {
      "cell_type": "code",
      "source": [
        "def check_outlier(dataframe, col_name):\n",
        "  low_limit, up_limit = outlier_thresholds(dataframe, col_name)\n",
        "  if dataframe[(dataframe[col_name] > up_limit) | (dataframe[col_name] < low_limit)].any(axis=None):\n",
        "    return True\n",
        "  else:\n",
        "    return False"
      ],
      "metadata": {
        "id": "bzXpTA5_VhMC"
      },
      "execution_count": 26,
      "outputs": []
    },
    {
      "cell_type": "code",
      "source": [
        "#Encoding"
      ],
      "metadata": {
        "id": "N_Lwz8_CVhJe"
      },
      "execution_count": null,
      "outputs": []
    },
    {
      "cell_type": "code",
      "source": [
        "def one_hot_encoder(dataframe, categorical_cols, drop_first=True, dtype=\"int\"):\n",
        "  dataframe = pd.get_dummies(dataframe, columns=categorical_cols, drop_first=drop_first, dtype=dtype)\n",
        "  return dataframe"
      ],
      "metadata": {
        "id": "ZgsUjy2XV41i"
      },
      "execution_count": 27,
      "outputs": []
    },
    {
      "cell_type": "code",
      "source": [
        "# değişken isimlerini büyütelim\n",
        "df.columns = [col.upper() for col in df.columns]"
      ],
      "metadata": {
        "id": "p8JrlLZ3V4zG"
      },
      "execution_count": 28,
      "outputs": []
    },
    {
      "cell_type": "code",
      "source": [
        "#Yeni Değişkenler"
      ],
      "metadata": {
        "id": "HJYkFem9V4ww"
      },
      "execution_count": null,
      "outputs": []
    },
    {
      "cell_type": "code",
      "source": [
        "# glucose\n",
        "df['NEW_GLUCOSE_CAT'] = pd.cut(df['GLUCOSE'], bins=[-1, 139, 200], labels=[\"NORMAL\", \"PRE-DIABETIC\"])\n",
        "\n",
        "# age\n",
        "df.loc[(df['AGE'] < 35), \"NEW_AGE_CAT\"] = 'YOUNG'\n",
        "df.loc[(df['AGE'] >= 35) & (df['AGE'] <= 55), \"NEW_AGE_CAT\"] = 'MIDDLE'\n",
        "df.loc[(df['AGE'] > 55), \"NEW_AGE_CAT\"] = 'OLD'\n",
        "\n",
        "# bmi\n",
        "df['NEW_BMI_RANGE'] = pd.cut(x=df['BMI'], bins=[-1, 18.5, 24.9, 29.9, 100], labels=['UNDERWEIGHT', 'HEALTHY', 'OVERWEIGHT', 'OBESE'])\n",
        "\n",
        "# bloodpressure\n",
        "df['NEW_BLOODPRESSURE'] = pd.cut(x=df['BLOODPRESSURE'], bins=[-1, 79, 89, 123], labels=['NORMAL', 'HS1', 'HS2'])\n"
      ],
      "metadata": {
        "id": "vEq9aRTgV9Yr"
      },
      "execution_count": 29,
      "outputs": []
    },
    {
      "cell_type": "code",
      "source": [
        "cat_cols, num_cols, cat_but_car = grab_col_names(df, cat_th=5, car_th=20)\n",
        "cat_cols, num_cols, cat_but_car"
      ],
      "metadata": {
        "colab": {
          "base_uri": "https://localhost:8080/"
        },
        "id": "havRG50OV_o-",
        "outputId": "e81d2f61-6315-4a11-d7cc-103c29c7ab13"
      },
      "execution_count": 30,
      "outputs": [
        {
          "output_type": "stream",
          "name": "stdout",
          "text": [
            "Observations: 768\n",
            "Variables: 13\n",
            "cat_cols: 5\n",
            "num_cols: 8\n",
            "cat_but_car: 0\n",
            "num_but_cat: 4\n"
          ]
        },
        {
          "output_type": "execute_result",
          "data": {
            "text/plain": [
              "(['NEW_AGE_CAT',\n",
              "  'OUTCOME',\n",
              "  'NEW_GLUCOSE_CAT',\n",
              "  'NEW_BMI_RANGE',\n",
              "  'NEW_BLOODPRESSURE'],\n",
              " ['PREGNANCIES',\n",
              "  'GLUCOSE',\n",
              "  'BLOODPRESSURE',\n",
              "  'SKINTHICKNESS',\n",
              "  'INSULIN',\n",
              "  'BMI',\n",
              "  'DIABETESPEDIGREEFUNCTION',\n",
              "  'AGE'],\n",
              " [])"
            ]
          },
          "metadata": {},
          "execution_count": 30
        }
      ]
    },
    {
      "cell_type": "code",
      "source": [
        "for col in cat_cols:\n",
        "  cat_summary(df, col)"
      ],
      "metadata": {
        "colab": {
          "base_uri": "https://localhost:8080/"
        },
        "id": "XyZDsDyOWAqG",
        "outputId": "18ff0d6c-85ac-47d3-b13c-667c1c4d4522"
      },
      "execution_count": 31,
      "outputs": [
        {
          "output_type": "stream",
          "name": "stdout",
          "text": [
            "             NEW_AGE_CAT      Ratio\n",
            "NEW_AGE_CAT                        \n",
            "YOUNG                488  63.541667\n",
            "MIDDLE               230  29.947917\n",
            "OLD                   50   6.510417\n",
            "##########################################\n",
            "         OUTCOME      Ratio\n",
            "OUTCOME                    \n",
            "0            500  65.104167\n",
            "1            268  34.895833\n",
            "##########################################\n",
            "                 NEW_GLUCOSE_CAT      Ratio\n",
            "NEW_GLUCOSE_CAT                            \n",
            "NORMAL                       571  74.348958\n",
            "PRE-DIABETIC                 197  25.651042\n",
            "##########################################\n",
            "               NEW_BMI_RANGE      Ratio\n",
            "NEW_BMI_RANGE                          \n",
            "OBESE                    472  61.458333\n",
            "OVERWEIGHT               179  23.307292\n",
            "HEALTHY                  102  13.281250\n",
            "UNDERWEIGHT               15   1.953125\n",
            "##########################################\n",
            "                   NEW_BLOODPRESSURE      Ratio\n",
            "NEW_BLOODPRESSURE                              \n",
            "NORMAL                           563  73.307292\n",
            "HS1                              145  18.880208\n",
            "HS2                               60   7.812500\n",
            "##########################################\n"
          ]
        }
      ]
    },
    {
      "cell_type": "code",
      "source": [
        "for col in cat_cols:\n",
        "  target_summary_with_cat(df, \"OUTCOME\", col)"
      ],
      "metadata": {
        "colab": {
          "base_uri": "https://localhost:8080/"
        },
        "id": "l2XjN901WDOw",
        "outputId": "39491805-3d3b-4d76-c77f-62c4e8ad9133"
      },
      "execution_count": 32,
      "outputs": [
        {
          "output_type": "stream",
          "name": "stdout",
          "text": [
            "             TARGET_MEAN\n",
            "NEW_AGE_CAT             \n",
            "MIDDLE          0.543478\n",
            "OLD             0.340000\n",
            "YOUNG           0.258197\n",
            "\n",
            "\n",
            "         TARGET_MEAN\n",
            "OUTCOME             \n",
            "0                0.0\n",
            "1                1.0\n",
            "\n",
            "\n",
            "                 TARGET_MEAN\n",
            "NEW_GLUCOSE_CAT             \n",
            "NORMAL              0.232925\n",
            "PRE-DIABETIC        0.685279\n",
            "\n",
            "\n",
            "               TARGET_MEAN\n",
            "NEW_BMI_RANGE             \n",
            "UNDERWEIGHT       0.133333\n",
            "HEALTHY           0.068627\n",
            "OVERWEIGHT        0.223464\n",
            "OBESE             0.463983\n",
            "\n",
            "\n",
            "                   TARGET_MEAN\n",
            "NEW_BLOODPRESSURE             \n",
            "NORMAL                0.316163\n",
            "HS1                   0.420690\n",
            "HS2                   0.483333\n",
            "\n",
            "\n"
          ]
        },
        {
          "output_type": "stream",
          "name": "stderr",
          "text": [
            "<ipython-input-14-4f998769d81d>:5: FutureWarning: The default of observed=False is deprecated and will be changed to True in a future version of pandas. Pass observed=False to retain current behavior or observed=True to adopt the future default and silence this warning.\n",
            "  print(pd.DataFrame({\"TARGET_MEAN\": dataframe.groupby(categorical_col)[target].mean()}), end=\"\\n\\n\\n\")\n",
            "<ipython-input-14-4f998769d81d>:5: FutureWarning: The default of observed=False is deprecated and will be changed to True in a future version of pandas. Pass observed=False to retain current behavior or observed=True to adopt the future default and silence this warning.\n",
            "  print(pd.DataFrame({\"TARGET_MEAN\": dataframe.groupby(categorical_col)[target].mean()}), end=\"\\n\\n\\n\")\n",
            "<ipython-input-14-4f998769d81d>:5: FutureWarning: The default of observed=False is deprecated and will be changed to True in a future version of pandas. Pass observed=False to retain current behavior or observed=True to adopt the future default and silence this warning.\n",
            "  print(pd.DataFrame({\"TARGET_MEAN\": dataframe.groupby(categorical_col)[target].mean()}), end=\"\\n\\n\\n\")\n"
          ]
        }
      ]
    },
    {
      "cell_type": "code",
      "source": [
        "cat_cols = [col for col in cat_cols if \"OUTCOME\" not in col]"
      ],
      "metadata": {
        "id": "S_jUwbCIWFK_"
      },
      "execution_count": 33,
      "outputs": []
    },
    {
      "cell_type": "code",
      "source": [
        "df = one_hot_encoder(df, cat_cols)"
      ],
      "metadata": {
        "id": "OPo1H0SLWGos"
      },
      "execution_count": 34,
      "outputs": []
    },
    {
      "cell_type": "code",
      "source": [
        "df.columns = [col.upper() for col in df.columns]"
      ],
      "metadata": {
        "id": "nURjhm--WGlo"
      },
      "execution_count": 35,
      "outputs": []
    },
    {
      "cell_type": "code",
      "source": [
        "cat_cols, num_cols, cat_but_car = grab_col_names(df, cat_th=5, car_th=20)\n",
        "cat_cols = [col for col in cat_cols if \"OUTCOME\" not in col]"
      ],
      "metadata": {
        "colab": {
          "base_uri": "https://localhost:8080/"
        },
        "id": "mA7a_RLqWITe",
        "outputId": "9fd00098-290b-4cb6-dc18-7cdf61e6955d"
      },
      "execution_count": 36,
      "outputs": [
        {
          "output_type": "stream",
          "name": "stdout",
          "text": [
            "Observations: 768\n",
            "Variables: 17\n",
            "cat_cols: 9\n",
            "num_cols: 8\n",
            "cat_but_car: 0\n",
            "num_but_cat: 9\n"
          ]
        }
      ]
    },
    {
      "cell_type": "code",
      "source": [
        "for col in num_cols:\n",
        "  print(col, check_outlier(df, col))"
      ],
      "metadata": {
        "colab": {
          "base_uri": "https://localhost:8080/"
        },
        "id": "DcRz1CWNWLAn",
        "outputId": "582e5d81-c4ce-4075-aa3e-f6845d590060"
      },
      "execution_count": 37,
      "outputs": [
        {
          "output_type": "stream",
          "name": "stdout",
          "text": [
            "PREGNANCIES False\n",
            "GLUCOSE False\n",
            "BLOODPRESSURE False\n",
            "SKINTHICKNESS False\n",
            "INSULIN True\n",
            "BMI False\n",
            "DIABETESPEDIGREEFUNCTION False\n",
            "AGE False\n"
          ]
        }
      ]
    },
    {
      "cell_type": "code",
      "source": [
        "replace_with_thresholds(df, \"INSULIN\")"
      ],
      "metadata": {
        "colab": {
          "base_uri": "https://localhost:8080/"
        },
        "id": "W8DM_bGEWK-B",
        "outputId": "821548c1-1921-4ed0-b3b4-817a2647fa90"
      },
      "execution_count": 38,
      "outputs": [
        {
          "output_type": "stream",
          "name": "stderr",
          "text": [
            "<ipython-input-25-6a2133861800>:3: FutureWarning: Setting an item of incompatible dtype is deprecated and will raise an error in a future version of pandas. Value '-439.5' has dtype incompatible with int64, please explicitly cast to a compatible dtype first.\n",
            "  dataframe.loc[(dataframe[variable] < low_limit), variable] = low_limit\n"
          ]
        }
      ]
    },
    {
      "cell_type": "code",
      "source": [
        "#Standartlaştırma"
      ],
      "metadata": {
        "id": "8u_sKldnWK70"
      },
      "execution_count": null,
      "outputs": []
    },
    {
      "cell_type": "code",
      "source": [
        "x_scaled = StandardScaler().fit_transform(df[num_cols])\n",
        "df[num_cols] = pd.DataFrame(x_scaled, columns=df[num_cols].columns)"
      ],
      "metadata": {
        "id": "oO6YnfzvWQ2G"
      },
      "execution_count": 39,
      "outputs": []
    },
    {
      "cell_type": "code",
      "source": [
        "y = df[\"OUTCOME\"]\n",
        "x = df.drop([\"OUTCOME\"], axis=1)\n",
        "check_df(x)"
      ],
      "metadata": {
        "colab": {
          "base_uri": "https://localhost:8080/"
        },
        "id": "70jo0kyWWQjg",
        "outputId": "abeca96e-f685-4ed6-d583-891c69413011"
      },
      "execution_count": 40,
      "outputs": [
        {
          "output_type": "stream",
          "name": "stdout",
          "text": [
            "##################### Shape #####################\n",
            "(768, 16)\n",
            "##################### Types #####################\n",
            "PREGNANCIES                     float64\n",
            "GLUCOSE                         float64\n",
            "BLOODPRESSURE                   float64\n",
            "SKINTHICKNESS                   float64\n",
            "INSULIN                         float64\n",
            "BMI                             float64\n",
            "DIABETESPEDIGREEFUNCTION        float64\n",
            "AGE                             float64\n",
            "NEW_AGE_CAT_OLD                   int64\n",
            "NEW_AGE_CAT_YOUNG                 int64\n",
            "NEW_GLUCOSE_CAT_PRE-DIABETIC      int64\n",
            "NEW_BMI_RANGE_HEALTHY             int64\n",
            "NEW_BMI_RANGE_OVERWEIGHT          int64\n",
            "NEW_BMI_RANGE_OBESE               int64\n",
            "NEW_BLOODPRESSURE_HS1             int64\n",
            "NEW_BLOODPRESSURE_HS2             int64\n",
            "dtype: object\n",
            "##################### Head #####################\n",
            "   PREGNANCIES   GLUCOSE  BLOODPRESSURE  SKINTHICKNESS   INSULIN       BMI  DIABETESPEDIGREEFUNCTION       AGE  NEW_AGE_CAT_OLD  NEW_AGE_CAT_YOUNG  NEW_GLUCOSE_CAT_PRE-DIABETIC  NEW_BMI_RANGE_HEALTHY  NEW_BMI_RANGE_OVERWEIGHT  NEW_BMI_RANGE_OBESE  NEW_BLOODPRESSURE_HS1  NEW_BLOODPRESSURE_HS2\n",
            "0     0.639947  0.848324       0.149641       0.907270 -0.697537  0.204013                  0.468492  1.425995                0                  0                             1                      0                         0                    1                      0                      0\n",
            "1    -0.844885 -1.123396      -0.160546       0.530902 -0.697537 -0.684422                 -0.365061 -0.190672                0                  1                             0                      0                         1                    0                      0                      0\n",
            "2     1.233880  1.943724      -0.263941      -1.288212 -0.697537 -1.103255                  0.604397 -0.105584                0                  1                             1                      1                         0                    0                      0                      0\n",
            "3    -0.844885 -0.998208      -0.160546       0.154533  0.125808 -0.494043                 -0.920763 -1.041549                0                  1                             0                      0                         1                    0                      0                      0\n",
            "4    -1.141852  0.504055      -1.504687       0.907270  0.773973  1.409746                  5.484909 -0.020496                0                  1                             0                      0                         0                    1                      0                      0\n",
            "##################### Tail #####################\n",
            "     PREGNANCIES   GLUCOSE  BLOODPRESSURE  SKINTHICKNESS   INSULIN       BMI  DIABETESPEDIGREEFUNCTION       AGE  NEW_AGE_CAT_OLD  NEW_AGE_CAT_YOUNG  NEW_GLUCOSE_CAT_PRE-DIABETIC  NEW_BMI_RANGE_HEALTHY  NEW_BMI_RANGE_OVERWEIGHT  NEW_BMI_RANGE_OBESE  NEW_BLOODPRESSURE_HS1  NEW_BLOODPRESSURE_HS2\n",
            "763     1.827813 -0.622642       0.356432       1.722735  0.879080  0.115169                 -0.908682  2.532136                1                  0                             0                      0                         0                    1                      0                      0\n",
            "764    -0.547919  0.034598       0.046245       0.405445 -0.697537  0.610154                 -0.398282 -0.531023                0                  1                             0                      0                         0                    1                      0                      0\n",
            "765     0.342981  0.003301       0.149641       0.154533  0.283469 -0.735190                 -0.685193 -0.275760                0                  1                             0                      0                         1                    0                      0                      0\n",
            "766    -0.844885  0.159787      -0.470732      -1.288212 -0.697537 -0.240205                 -0.371101  1.170732                0                  0                             0                      0                         0                    1                      0                      0\n",
            "767    -0.844885 -0.873019       0.046245       0.656358 -0.697537 -0.202129                 -0.473785 -0.871374                0                  1                             0                      0                         0                    1                      0                      0\n",
            "##################### NA #####################\n",
            "PREGNANCIES                     0\n",
            "GLUCOSE                         0\n",
            "BLOODPRESSURE                   0\n",
            "SKINTHICKNESS                   0\n",
            "INSULIN                         0\n",
            "BMI                             0\n",
            "DIABETESPEDIGREEFUNCTION        0\n",
            "AGE                             0\n",
            "NEW_AGE_CAT_OLD                 0\n",
            "NEW_AGE_CAT_YOUNG               0\n",
            "NEW_GLUCOSE_CAT_PRE-DIABETIC    0\n",
            "NEW_BMI_RANGE_HEALTHY           0\n",
            "NEW_BMI_RANGE_OVERWEIGHT        0\n",
            "NEW_BMI_RANGE_OBESE             0\n",
            "NEW_BLOODPRESSURE_HS1           0\n",
            "NEW_BLOODPRESSURE_HS2           0\n",
            "dtype: int64\n",
            "##################### Quantiles #####################\n",
            "                                  0.00      0.05      0.50      0.95      0.99      1.00\n",
            "PREGNANCIES                  -1.141852 -1.141852 -0.250952  1.827813  2.718712  3.906578\n",
            "GLUCOSE                      -3.783654 -1.311179 -0.121888  1.881130  2.350587  2.444478\n",
            "BLOODPRESSURE                -3.572597 -1.571894  0.149641  1.080200  1.907364  2.734528\n",
            "SKINTHICKNESS                -1.288212 -1.288212  0.154533  1.471822  1.931619  4.921866\n",
            "INSULIN                      -0.697537 -0.697537 -0.430388  1.868845  3.856259  5.718419\n",
            "BMI                          -4.060474 -1.293634  0.000942  1.574106  2.381820  4.455807\n",
            "DIABETESPEDIGREEFUNCTION     -1.189553 -1.001249 -0.300128  1.996219  3.704036  5.883565\n",
            "AGE                          -1.041549 -1.041549 -0.360847  2.106697  2.872487  4.063716\n",
            "NEW_AGE_CAT_OLD               0.000000  0.000000  0.000000  1.000000  1.000000  1.000000\n",
            "NEW_AGE_CAT_YOUNG             0.000000  0.000000  1.000000  1.000000  1.000000  1.000000\n",
            "NEW_GLUCOSE_CAT_PRE-DIABETIC  0.000000  0.000000  0.000000  1.000000  1.000000  1.000000\n",
            "NEW_BMI_RANGE_HEALTHY         0.000000  0.000000  0.000000  1.000000  1.000000  1.000000\n",
            "NEW_BMI_RANGE_OVERWEIGHT      0.000000  0.000000  0.000000  1.000000  1.000000  1.000000\n",
            "NEW_BMI_RANGE_OBESE           0.000000  0.000000  1.000000  1.000000  1.000000  1.000000\n",
            "NEW_BLOODPRESSURE_HS1         0.000000  0.000000  0.000000  1.000000  1.000000  1.000000\n",
            "NEW_BLOODPRESSURE_HS2         0.000000  0.000000  0.000000  1.000000  1.000000  1.000000\n"
          ]
        }
      ]
    },
    {
      "cell_type": "code",
      "source": [
        "df = load()"
      ],
      "metadata": {
        "id": "GFS6lIIxWUMQ"
      },
      "execution_count": 41,
      "outputs": []
    },
    {
      "cell_type": "code",
      "source": [
        "def diabetes_data_prep(df):\n",
        "  df.columns = [col.upper() for col in df.columns]\n",
        "\n",
        "  # glucose\n",
        "  df['NEW_GLUCOSE_CAT'] = pd.cut(df['GLUCOSE'], bins=[-1, 139, 200], labels=[\"NORMAL\", \"PRE-DIABETIC\"])\n",
        "\n",
        "  # age\n",
        "  df.loc[(df['AGE'] < 35), \"NEW_AGE_CAT\"] = 'YOUNG'\n",
        "  df.loc[(df['AGE'] >= 35) & (df['AGE'] <= 55), \"NEW_AGE_CAT\"] = 'MIDDLE'\n",
        "  df.loc[(df['AGE'] > 55), \"NEW_AGE_CAT\"] = 'OLD'\n",
        "\n",
        "  # bmi\n",
        "  df['NEW_BMI_RANGE'] = pd.cut(x=df['BMI'], bins=[-1, 18.5, 24.9, 29.9, 100], labels=['UNDERWEIGHT', 'HEALTHY', 'OVERWEIGHT', 'OBESE'])\n",
        "\n",
        "  # bloodpressure\n",
        "  df['NEW_BLOODPRESSURE'] = pd.cut(x=df['BLOODPRESSURE'], bins=[-1, 79, 89, 123], labels=['NORMAL', 'HS1', 'HS2'])\n",
        "\n",
        "  cat_cols, num_cols, cat_but_car = grab_col_names(df, cat_th=5, car_th=20)\n",
        "  cat_cols = [col for col in cat_cols if \"OUTCOME\" not in col]\n",
        "\n",
        "  df = one_hot_encoder(df, cat_cols, drop_first=True)\n",
        "\n",
        "  cat_cols, num_cols, cat_but_car = grab_col_names(df, cat_th=5, car_th=20)\n",
        "  cat_cols = [col for col in cat_cols if \"OUTCOME\" not in col]\n",
        "\n",
        "  replace_with_thresholds(df, \"INSULIN\")\n",
        "\n",
        "  x_scaled = StandardScaler().fit_transform(df[num_cols])\n",
        "  df[num_cols] = pd.DataFrame(x_scaled, columns=df[num_cols].columns)\n",
        "\n",
        "  y = df[\"OUTCOME\"]\n",
        "  x = df.drop([\"OUTCOME\"], axis=1)\n",
        "\n",
        "  return x, y"
      ],
      "metadata": {
        "id": "dvCjwcMGWWdc"
      },
      "execution_count": 42,
      "outputs": []
    },
    {
      "cell_type": "code",
      "source": [
        "x, y = diabetes_data_prep(df)"
      ],
      "metadata": {
        "colab": {
          "base_uri": "https://localhost:8080/"
        },
        "id": "2PA_oWZ4WYvI",
        "outputId": "2fbca0be-651e-492e-ab81-576c6286d576"
      },
      "execution_count": 43,
      "outputs": [
        {
          "output_type": "stream",
          "name": "stdout",
          "text": [
            "Observations: 768\n",
            "Variables: 13\n",
            "cat_cols: 5\n",
            "num_cols: 8\n",
            "cat_but_car: 0\n",
            "num_but_cat: 4\n",
            "Observations: 768\n",
            "Variables: 17\n",
            "cat_cols: 9\n",
            "num_cols: 8\n",
            "cat_but_car: 0\n",
            "num_but_cat: 9\n"
          ]
        },
        {
          "output_type": "stream",
          "name": "stderr",
          "text": [
            "<ipython-input-25-6a2133861800>:3: FutureWarning: Setting an item of incompatible dtype is deprecated and will raise an error in a future version of pandas. Value '-439.5' has dtype incompatible with int64, please explicitly cast to a compatible dtype first.\n",
            "  dataframe.loc[(dataframe[variable] < low_limit), variable] = low_limit\n"
          ]
        }
      ]
    },
    {
      "cell_type": "markdown",
      "source": [
        "model\n"
      ],
      "metadata": {
        "id": "Y8TtaprvWjnE"
      }
    },
    {
      "cell_type": "code",
      "source": [
        "def base_models(x, y, scoring=\"roc_auc\"):\n",
        "  print(\"BASE MODELS....\")\n",
        "  classifiers = [('LR', LogisticRegression()),\n",
        "                 ('KNN', KNeighborsClassifier()),\n",
        "                 (\"SVC\", SVC()),\n",
        "                 (\"CART\", DecisionTreeClassifier()),\n",
        "                 (\"RF\", RandomForestClassifier()),\n",
        "                 (\"Adaboost\", AdaBoostClassifier()),\n",
        "                 (\"GBM\", GradientBoostingClassifier()),\n",
        "                 #(\"XGBoost\", XGBClassifier(use_label_encoder=False, eval_metric='logloss')),\n",
        "                 (\"LightGBM\", LGBMClassifier(verbose=-1)),\n",
        "                 (\"CatBoost\", CatBoostClassifier(verbose=False))\n",
        "                 ]\n",
        "\n",
        "\n",
        "  for name, classifier in classifiers:\n",
        "    cv_results = cross_validate(classifier, x, y, cv=3, scoring=scoring)\n",
        "    print(f\"{scoring}: {round(cv_results['test_score'].mean(), 4)} ({name}) \")"
      ],
      "metadata": {
        "id": "tUDFxctjWbeA"
      },
      "execution_count": 44,
      "outputs": []
    },
    {
      "cell_type": "code",
      "source": [
        "import warnings\n",
        "warnings.filterwarnings(\"ignore\")"
      ],
      "metadata": {
        "id": "4RJl-ucRWeI8"
      },
      "execution_count": 45,
      "outputs": []
    },
    {
      "cell_type": "code",
      "source": [
        "base_models(x, y)"
      ],
      "metadata": {
        "colab": {
          "base_uri": "https://localhost:8080/"
        },
        "id": "7RLlnYUKWfaO",
        "outputId": "b04b6b67-d1b0-44f0-c8a7-314ad3e67a7b"
      },
      "execution_count": 46,
      "outputs": [
        {
          "output_type": "stream",
          "name": "stdout",
          "text": [
            "BASE MODELS....\n",
            "roc_auc: 0.841 (LR) \n",
            "roc_auc: 0.7808 (KNN) \n",
            "roc_auc: 0.8354 (SVC) \n",
            "roc_auc: 0.6622 (CART) \n",
            "roc_auc: 0.8306 (RF) \n",
            "roc_auc: 0.8181 (Adaboost) \n",
            "roc_auc: 0.8251 (GBM) \n",
            "roc_auc: 0.8015 (LightGBM) \n",
            "roc_auc: 0.836 (CatBoost) \n"
          ]
        }
      ]
    },
    {
      "cell_type": "markdown",
      "source": [
        "Otomatik Hiperparametre Optimizasyonu"
      ],
      "metadata": {
        "id": "a-FzK3cwWleM"
      }
    },
    {
      "cell_type": "code",
      "source": [
        "knn_params = {\"n_neighbors\": range(2, 50)}\n",
        "\n",
        "cart_params = {'max_depth': range(1, 20),\n",
        "               \"min_samples_split\": range(2, 30)}\n",
        "\n",
        "rf_params = {\"max_depth\": [8, 15,None],\n",
        "             \"max_features\": [5, 7, \"auto\"],\n",
        "             \"min_samples_split\": [15, 20],\n",
        "             \"n_estimators\": [200, 300]}\n",
        "\n",
        "xgboost_params = {\"learning_rate\": [0.1, 0.01],\n",
        "                 \"max_depth\": [5, 8],\n",
        "                 \"n_estimators\": [100, 200],\n",
        "                 \"colsample_bytree\": [0.5, 1]}\n",
        "\n",
        "lightgbm_params = {\"learning_rate\": [0.1, 0.01],\n",
        "                 \"n_estimators\": [300, 500],\n",
        "                 \"colsample_bytree\": [0.7, 1]}"
      ],
      "metadata": {
        "id": "K7HZHXcTWoeG"
      },
      "execution_count": 47,
      "outputs": []
    },
    {
      "cell_type": "code",
      "source": [
        "classifiers = [('KNN', KNeighborsClassifier(), knn_params),\n",
        "               ('CART', DecisionTreeClassifier(), cart_params),\n",
        "               ('RF', RandomForestClassifier(), rf_params),\n",
        "               #('XGBoost', XGBClassifier(use_label_encoder=False, eval_metric=\"logloss\"), xgboost_params),\n",
        "               ('LightGBM', LGBMClassifier(), lightgbm_params)]\n"
      ],
      "metadata": {
        "id": "jJa6dxZQWp5e"
      },
      "execution_count": 48,
      "outputs": []
    },
    {
      "cell_type": "code",
      "source": [
        "def  hyperparameter_optimization(x, y, cv=3, scoring=\"roc_auc\"):\n",
        "  print(\"HYPERPARAMETER OPTIMIZATION....\")\n",
        "  best_models = {}\n",
        "  for name, classifier, params in classifiers:\n",
        "    print(f\"########## {name} ##########\")\n",
        "    cv_results = cross_validate(classifier, x, y, cv=cv, scoring=scoring)\n",
        "    print(f\"{scoring} (BEFORE): {round(cv_results['test_score'].mean(), 4)}\")\n",
        "\n",
        "    gs_best_params = GridSearchCV(classifier, params, cv=cv, n_jobs=-1, verbose=False).fit(x, y)\n",
        "    final_model = classifier.set_params(**gs_best_params.best_params_)\n",
        "\n",
        "    cv_results = cross_validate(final_model, x, y, cv=cv, scoring=scoring)\n",
        "    print(f\"{scoring} (AFTER): {round(cv_results['test_score'].mean(), 4)}\")\n",
        "    print(f\"{name} best params: {gs_best_params.best_params_}\", end=\"\\n\\n\")\n",
        "    best_models[name] = final_model\n",
        "\n",
        "  return best_models"
      ],
      "metadata": {
        "id": "WRrxFSZIWsWw"
      },
      "execution_count": 49,
      "outputs": []
    },
    {
      "cell_type": "code",
      "source": [
        "best_models = hyperparameter_optimization(x, y)"
      ],
      "metadata": {
        "colab": {
          "base_uri": "https://localhost:8080/"
        },
        "id": "Ai8Tiop6WsRE",
        "outputId": "eb1b6e43-3792-4dee-af4a-bbf88f2160a2"
      },
      "execution_count": 50,
      "outputs": [
        {
          "output_type": "stream",
          "name": "stdout",
          "text": [
            "HYPERPARAMETER OPTIMIZATION....\n",
            "########## KNN ##########\n",
            "roc_auc (BEFORE): 0.7808\n",
            "roc_auc (AFTER): 0.8148\n",
            "KNN best params: {'n_neighbors': 16}\n",
            "\n",
            "########## CART ##########\n",
            "roc_auc (BEFORE): 0.6569\n",
            "roc_auc (AFTER): 0.7992\n",
            "CART best params: {'max_depth': 6, 'min_samples_split': 25}\n",
            "\n",
            "########## RF ##########\n",
            "roc_auc (BEFORE): 0.8246\n",
            "roc_auc (AFTER): 0.8321\n",
            "RF best params: {'max_depth': 8, 'max_features': 7, 'min_samples_split': 15, 'n_estimators': 200}\n",
            "\n",
            "########## LightGBM ##########\n",
            "roc_auc (BEFORE): 0.8015\n",
            "roc_auc (AFTER): 0.8221\n",
            "LightGBM best params: {'colsample_bytree': 0.7, 'learning_rate': 0.01, 'n_estimators': 300}\n",
            "\n"
          ]
        }
      ]
    },
    {
      "cell_type": "markdown",
      "source": [
        "Stacking & Ensemble Learning"
      ],
      "metadata": {
        "id": "ntqkLskJXFo_"
      }
    },
    {
      "cell_type": "code",
      "source": [
        "# birden fazla algoritmanın tahminleri"
      ],
      "metadata": {
        "id": "ILFJXbauXHFO"
      },
      "execution_count": null,
      "outputs": []
    },
    {
      "cell_type": "code",
      "source": [
        "# ornegin en başarılı 3 modelin ortak sonuçları"
      ],
      "metadata": {
        "id": "Tm9JJaORXIzu"
      },
      "execution_count": null,
      "outputs": []
    },
    {
      "cell_type": "code",
      "source": [
        "def voting_classifier(best_models, x, y):\n",
        "  print(\"VOTING CLASSIFIER....\")\n",
        "  voting_clf = VotingClassifier(estimators=[('KNN', best_models[\"KNN\"]),\n",
        "                                          ('LightGBM', best_models[\"LightGBM\"]),\n",
        "                                          ('RF', best_models[\"RF\"])],\n",
        "                                            voting='soft').fit(x, y)\n",
        "  cv_results = cross_validate(voting_clf, x, y, cv=3, scoring=[\"accuracy\", \"f1\", \"roc_auc\"])\n",
        "  print(f\"accuracy: {cv_results['test_accuracy'].mean()}\")\n",
        "  print(f\"f1: {cv_results['test_f1'].mean()}\")\n",
        "  print(f\"roc_auc: {cv_results['test_roc_auc'].mean()}\")\n",
        "  return voting_clf"
      ],
      "metadata": {
        "id": "EMWiX7H3XKXI"
      },
      "execution_count": 51,
      "outputs": []
    },
    {
      "cell_type": "code",
      "source": [
        "voting_clf = voting_classifier(best_models, x, y)"
      ],
      "metadata": {
        "colab": {
          "base_uri": "https://localhost:8080/"
        },
        "id": "YLOEU7__XM_Y",
        "outputId": "0ff14f5b-3ec0-438c-ef13-377c56ed2505"
      },
      "execution_count": 52,
      "outputs": [
        {
          "output_type": "stream",
          "name": "stdout",
          "text": [
            "VOTING CLASSIFIER....\n",
            "accuracy: 0.7669270833333334\n",
            "f1: 0.6268428548755779\n",
            "roc_auc: 0.8349347452230896\n"
          ]
        }
      ]
    },
    {
      "cell_type": "code",
      "source": [
        "#Tahminleme"
      ],
      "metadata": {
        "id": "W3ogYDvtXPET"
      },
      "execution_count": null,
      "outputs": []
    },
    {
      "cell_type": "code",
      "source": [
        "x.columns"
      ],
      "metadata": {
        "colab": {
          "base_uri": "https://localhost:8080/"
        },
        "id": "fBTekkQaXUze",
        "outputId": "fefacc71-0016-444f-8e97-514490863894"
      },
      "execution_count": 53,
      "outputs": [
        {
          "output_type": "execute_result",
          "data": {
            "text/plain": [
              "Index(['PREGNANCIES', 'GLUCOSE', 'BLOODPRESSURE', 'SKINTHICKNESS', 'INSULIN', 'BMI', 'DIABETESPEDIGREEFUNCTION', 'AGE', 'NEW_AGE_CAT_OLD', 'NEW_AGE_CAT_YOUNG', 'NEW_GLUCOSE_CAT_PRE-DIABETIC', 'NEW_BMI_RANGE_HEALTHY', 'NEW_BMI_RANGE_OVERWEIGHT', 'NEW_BMI_RANGE_OBESE', 'NEW_BLOODPRESSURE_HS1', 'NEW_BLOODPRESSURE_HS2'], dtype='object')"
            ]
          },
          "metadata": {},
          "execution_count": 53
        }
      ]
    },
    {
      "cell_type": "code",
      "source": [
        "joblib.dump(voting_clf, \"voting_clf.pkl\")"
      ],
      "metadata": {
        "colab": {
          "base_uri": "https://localhost:8080/"
        },
        "id": "Pnod-17EXWML",
        "outputId": "15750a28-39a8-4ce7-cb4d-c2ad0a43b34a"
      },
      "execution_count": 54,
      "outputs": [
        {
          "output_type": "execute_result",
          "data": {
            "text/plain": [
              "['voting_clf.pkl']"
            ]
          },
          "metadata": {},
          "execution_count": 54
        }
      ]
    },
    {
      "cell_type": "code",
      "source": [
        "new_model = joblib.load(\"voting_clf.pkl\")"
      ],
      "metadata": {
        "id": "rk_8OK7mXXqY"
      },
      "execution_count": 55,
      "outputs": []
    },
    {
      "cell_type": "code",
      "source": [
        "random_user = x.sample(1, random_state=45)\n",
        "new_model.predict(random_user)"
      ],
      "metadata": {
        "colab": {
          "base_uri": "https://localhost:8080/"
        },
        "id": "VQYPaSJvXYnm",
        "outputId": "a765e3f4-149d-4325-cb1b-596e8963abfd"
      },
      "execution_count": 56,
      "outputs": [
        {
          "output_type": "execute_result",
          "data": {
            "text/plain": [
              "array([1])"
            ]
          },
          "metadata": {},
          "execution_count": 56
        }
      ]
    },
    {
      "cell_type": "markdown",
      "source": [
        "Pipeline Main Function"
      ],
      "metadata": {
        "id": "SSSnrB1fXaOM"
      }
    },
    {
      "cell_type": "code",
      "source": [
        "def main():\n",
        "  df = pd.read_csv(\"diabetes.csv\")\n",
        "  x, y = diabetes_data_prep(df)\n",
        "  base_models(x, y)\n",
        "  best_models = hyperparameter_optimization(x, y)\n",
        "  voting_clf = voting_classifier(best_models, x, y)\n",
        "  joblib.dump(voting_clf, \"voting_clf.pkl\")\n",
        "  return voting_clf"
      ],
      "metadata": {
        "id": "kgqebv3xXa4M"
      },
      "execution_count": 57,
      "outputs": []
    },
    {
      "cell_type": "code",
      "source": [
        "if __name__ == \"__main__\":\n",
        "  main()"
      ],
      "metadata": {
        "colab": {
          "base_uri": "https://localhost:8080/"
        },
        "id": "1b6boyYoXcdU",
        "outputId": "45538ab5-b305-40f0-c12f-697e39600d29"
      },
      "execution_count": 58,
      "outputs": [
        {
          "output_type": "stream",
          "name": "stdout",
          "text": [
            "Observations: 768\n",
            "Variables: 13\n",
            "cat_cols: 5\n",
            "num_cols: 8\n",
            "cat_but_car: 0\n",
            "num_but_cat: 4\n",
            "Observations: 768\n",
            "Variables: 17\n",
            "cat_cols: 9\n",
            "num_cols: 8\n",
            "cat_but_car: 0\n",
            "num_but_cat: 9\n",
            "BASE MODELS....\n",
            "roc_auc: 0.841 (LR) \n",
            "roc_auc: 0.7808 (KNN) \n",
            "roc_auc: 0.8354 (SVC) \n",
            "roc_auc: 0.6572 (CART) \n",
            "roc_auc: 0.8265 (RF) \n",
            "roc_auc: 0.8181 (Adaboost) \n",
            "roc_auc: 0.825 (GBM) \n",
            "roc_auc: 0.8015 (LightGBM) \n",
            "roc_auc: 0.836 (CatBoost) \n",
            "HYPERPARAMETER OPTIMIZATION....\n",
            "########## KNN ##########\n",
            "roc_auc (BEFORE): 0.8148\n",
            "roc_auc (AFTER): 0.8148\n",
            "KNN best params: {'n_neighbors': 16}\n",
            "\n",
            "########## CART ##########\n",
            "roc_auc (BEFORE): 0.7992\n",
            "roc_auc (AFTER): 0.7714\n",
            "CART best params: {'max_depth': 4, 'min_samples_split': 18}\n",
            "\n",
            "########## RF ##########\n",
            "roc_auc (BEFORE): 0.8344\n",
            "roc_auc (AFTER): 0.8379\n",
            "RF best params: {'max_depth': 15, 'max_features': 5, 'min_samples_split': 20, 'n_estimators': 200}\n",
            "\n",
            "########## LightGBM ##########\n",
            "roc_auc (BEFORE): 0.8221\n",
            "roc_auc (AFTER): 0.8221\n",
            "LightGBM best params: {'colsample_bytree': 0.7, 'learning_rate': 0.01, 'n_estimators': 300}\n",
            "\n",
            "VOTING CLASSIFIER....\n",
            "accuracy: 0.7669270833333334\n",
            "f1: 0.6266299930617505\n",
            "roc_auc: 0.8366796632506989\n"
          ]
        }
      ]
    },
    {
      "cell_type": "markdown",
      "source": [
        "Prediction"
      ],
      "metadata": {
        "id": "ZLgJE-s9Xd3S"
      }
    },
    {
      "cell_type": "code",
      "source": [
        "df = load()"
      ],
      "metadata": {
        "id": "NgsN5lVvXekc"
      },
      "execution_count": 59,
      "outputs": []
    },
    {
      "cell_type": "code",
      "source": [
        "random_user = df.sample(1, random_state=45)\n",
        "new_model = joblib.load(\"voting_clf.pkl\")\n",
        "new_model.predict(random_user)\n",
        "# eski ve yeni değişkenlerin boyut hatası var"
      ],
      "metadata": {
        "colab": {
          "base_uri": "https://localhost:8080/",
          "height": 616
        },
        "collapsed": true,
        "id": "e_WKJIEeXpta",
        "outputId": "e450433d-da5e-4a8c-e7f1-4e0b4af36cc5"
      },
      "execution_count": 63,
      "outputs": [
        {
          "output_type": "error",
          "ename": "ValueError",
          "evalue": "The feature names should match those that were passed during fit.\nFeature names unseen at fit time:\n- Age\n- BloodPressure\n- DiabetesPedigreeFunction\n- Glucose\n- Insulin\n- ...\nFeature names seen at fit time, yet now missing:\n- AGE\n- BLOODPRESSURE\n- DIABETESPEDIGREEFUNCTION\n- GLUCOSE\n- INSULIN\n- ...\n",
          "traceback": [
            "\u001b[0;31m---------------------------------------------------------------------------\u001b[0m",
            "\u001b[0;31mValueError\u001b[0m                                Traceback (most recent call last)",
            "\u001b[0;32m<ipython-input-63-1f22cddf77ac>\u001b[0m in \u001b[0;36m<cell line: 0>\u001b[0;34m()\u001b[0m\n\u001b[1;32m      1\u001b[0m \u001b[0mrandom_user\u001b[0m \u001b[0;34m=\u001b[0m \u001b[0mdf\u001b[0m\u001b[0;34m.\u001b[0m\u001b[0msample\u001b[0m\u001b[0;34m(\u001b[0m\u001b[0;36m1\u001b[0m\u001b[0;34m,\u001b[0m \u001b[0mrandom_state\u001b[0m\u001b[0;34m=\u001b[0m\u001b[0;36m45\u001b[0m\u001b[0;34m)\u001b[0m\u001b[0;34m\u001b[0m\u001b[0;34m\u001b[0m\u001b[0m\n\u001b[1;32m      2\u001b[0m \u001b[0mnew_model\u001b[0m \u001b[0;34m=\u001b[0m \u001b[0mjoblib\u001b[0m\u001b[0;34m.\u001b[0m\u001b[0mload\u001b[0m\u001b[0;34m(\u001b[0m\u001b[0;34m\"voting_clf.pkl\"\u001b[0m\u001b[0;34m)\u001b[0m\u001b[0;34m\u001b[0m\u001b[0;34m\u001b[0m\u001b[0m\n\u001b[0;32m----> 3\u001b[0;31m \u001b[0mnew_model\u001b[0m\u001b[0;34m.\u001b[0m\u001b[0mpredict\u001b[0m\u001b[0;34m(\u001b[0m\u001b[0mrandom_user\u001b[0m\u001b[0;34m)\u001b[0m\u001b[0;34m\u001b[0m\u001b[0;34m\u001b[0m\u001b[0m\n\u001b[0m\u001b[1;32m      4\u001b[0m \u001b[0;31m# eski ve yeni değişkenlerin boyut hatası var\u001b[0m\u001b[0;34m\u001b[0m\u001b[0;34m\u001b[0m\u001b[0m\n",
            "\u001b[0;32m/usr/local/lib/python3.11/dist-packages/sklearn/ensemble/_voting.py\u001b[0m in \u001b[0;36mpredict\u001b[0;34m(self, X)\u001b[0m\n\u001b[1;32m    434\u001b[0m         \u001b[0mcheck_is_fitted\u001b[0m\u001b[0;34m(\u001b[0m\u001b[0mself\u001b[0m\u001b[0;34m)\u001b[0m\u001b[0;34m\u001b[0m\u001b[0;34m\u001b[0m\u001b[0m\n\u001b[1;32m    435\u001b[0m         \u001b[0;32mif\u001b[0m \u001b[0mself\u001b[0m\u001b[0;34m.\u001b[0m\u001b[0mvoting\u001b[0m \u001b[0;34m==\u001b[0m \u001b[0;34m\"soft\"\u001b[0m\u001b[0;34m:\u001b[0m\u001b[0;34m\u001b[0m\u001b[0;34m\u001b[0m\u001b[0m\n\u001b[0;32m--> 436\u001b[0;31m             \u001b[0mmaj\u001b[0m \u001b[0;34m=\u001b[0m \u001b[0mnp\u001b[0m\u001b[0;34m.\u001b[0m\u001b[0margmax\u001b[0m\u001b[0;34m(\u001b[0m\u001b[0mself\u001b[0m\u001b[0;34m.\u001b[0m\u001b[0mpredict_proba\u001b[0m\u001b[0;34m(\u001b[0m\u001b[0mX\u001b[0m\u001b[0;34m)\u001b[0m\u001b[0;34m,\u001b[0m \u001b[0maxis\u001b[0m\u001b[0;34m=\u001b[0m\u001b[0;36m1\u001b[0m\u001b[0;34m)\u001b[0m\u001b[0;34m\u001b[0m\u001b[0;34m\u001b[0m\u001b[0m\n\u001b[0m\u001b[1;32m    437\u001b[0m \u001b[0;34m\u001b[0m\u001b[0m\n\u001b[1;32m    438\u001b[0m         \u001b[0;32melse\u001b[0m\u001b[0;34m:\u001b[0m  \u001b[0;31m# 'hard' voting\u001b[0m\u001b[0;34m\u001b[0m\u001b[0;34m\u001b[0m\u001b[0m\n",
            "\u001b[0;32m/usr/local/lib/python3.11/dist-packages/sklearn/ensemble/_voting.py\u001b[0m in \u001b[0;36mpredict_proba\u001b[0;34m(self, X)\u001b[0m\n\u001b[1;32m    475\u001b[0m         \u001b[0mcheck_is_fitted\u001b[0m\u001b[0;34m(\u001b[0m\u001b[0mself\u001b[0m\u001b[0;34m)\u001b[0m\u001b[0;34m\u001b[0m\u001b[0;34m\u001b[0m\u001b[0m\n\u001b[1;32m    476\u001b[0m         avg = np.average(\n\u001b[0;32m--> 477\u001b[0;31m             \u001b[0mself\u001b[0m\u001b[0;34m.\u001b[0m\u001b[0m_collect_probas\u001b[0m\u001b[0;34m(\u001b[0m\u001b[0mX\u001b[0m\u001b[0;34m)\u001b[0m\u001b[0;34m,\u001b[0m \u001b[0maxis\u001b[0m\u001b[0;34m=\u001b[0m\u001b[0;36m0\u001b[0m\u001b[0;34m,\u001b[0m \u001b[0mweights\u001b[0m\u001b[0;34m=\u001b[0m\u001b[0mself\u001b[0m\u001b[0;34m.\u001b[0m\u001b[0m_weights_not_none\u001b[0m\u001b[0;34m\u001b[0m\u001b[0;34m\u001b[0m\u001b[0m\n\u001b[0m\u001b[1;32m    478\u001b[0m         )\n\u001b[1;32m    479\u001b[0m         \u001b[0;32mreturn\u001b[0m \u001b[0mavg\u001b[0m\u001b[0;34m\u001b[0m\u001b[0;34m\u001b[0m\u001b[0m\n",
            "\u001b[0;32m/usr/local/lib/python3.11/dist-packages/sklearn/ensemble/_voting.py\u001b[0m in \u001b[0;36m_collect_probas\u001b[0;34m(self, X)\u001b[0m\n\u001b[1;32m    450\u001b[0m     \u001b[0;32mdef\u001b[0m \u001b[0m_collect_probas\u001b[0m\u001b[0;34m(\u001b[0m\u001b[0mself\u001b[0m\u001b[0;34m,\u001b[0m \u001b[0mX\u001b[0m\u001b[0;34m)\u001b[0m\u001b[0;34m:\u001b[0m\u001b[0;34m\u001b[0m\u001b[0;34m\u001b[0m\u001b[0m\n\u001b[1;32m    451\u001b[0m         \u001b[0;34m\"\"\"Collect results from clf.predict calls.\"\"\"\u001b[0m\u001b[0;34m\u001b[0m\u001b[0;34m\u001b[0m\u001b[0m\n\u001b[0;32m--> 452\u001b[0;31m         \u001b[0;32mreturn\u001b[0m \u001b[0mnp\u001b[0m\u001b[0;34m.\u001b[0m\u001b[0masarray\u001b[0m\u001b[0;34m(\u001b[0m\u001b[0;34m[\u001b[0m\u001b[0mclf\u001b[0m\u001b[0;34m.\u001b[0m\u001b[0mpredict_proba\u001b[0m\u001b[0;34m(\u001b[0m\u001b[0mX\u001b[0m\u001b[0;34m)\u001b[0m \u001b[0;32mfor\u001b[0m \u001b[0mclf\u001b[0m \u001b[0;32min\u001b[0m \u001b[0mself\u001b[0m\u001b[0;34m.\u001b[0m\u001b[0mestimators_\u001b[0m\u001b[0;34m]\u001b[0m\u001b[0;34m)\u001b[0m\u001b[0;34m\u001b[0m\u001b[0;34m\u001b[0m\u001b[0m\n\u001b[0m\u001b[1;32m    453\u001b[0m \u001b[0;34m\u001b[0m\u001b[0m\n\u001b[1;32m    454\u001b[0m     \u001b[0;32mdef\u001b[0m \u001b[0m_check_voting\u001b[0m\u001b[0;34m(\u001b[0m\u001b[0mself\u001b[0m\u001b[0;34m)\u001b[0m\u001b[0;34m:\u001b[0m\u001b[0;34m\u001b[0m\u001b[0;34m\u001b[0m\u001b[0m\n",
            "\u001b[0;32m/usr/local/lib/python3.11/dist-packages/sklearn/ensemble/_voting.py\u001b[0m in \u001b[0;36m<listcomp>\u001b[0;34m(.0)\u001b[0m\n\u001b[1;32m    450\u001b[0m     \u001b[0;32mdef\u001b[0m \u001b[0m_collect_probas\u001b[0m\u001b[0;34m(\u001b[0m\u001b[0mself\u001b[0m\u001b[0;34m,\u001b[0m \u001b[0mX\u001b[0m\u001b[0;34m)\u001b[0m\u001b[0;34m:\u001b[0m\u001b[0;34m\u001b[0m\u001b[0;34m\u001b[0m\u001b[0m\n\u001b[1;32m    451\u001b[0m         \u001b[0;34m\"\"\"Collect results from clf.predict calls.\"\"\"\u001b[0m\u001b[0;34m\u001b[0m\u001b[0;34m\u001b[0m\u001b[0m\n\u001b[0;32m--> 452\u001b[0;31m         \u001b[0;32mreturn\u001b[0m \u001b[0mnp\u001b[0m\u001b[0;34m.\u001b[0m\u001b[0masarray\u001b[0m\u001b[0;34m(\u001b[0m\u001b[0;34m[\u001b[0m\u001b[0mclf\u001b[0m\u001b[0;34m.\u001b[0m\u001b[0mpredict_proba\u001b[0m\u001b[0;34m(\u001b[0m\u001b[0mX\u001b[0m\u001b[0;34m)\u001b[0m \u001b[0;32mfor\u001b[0m \u001b[0mclf\u001b[0m \u001b[0;32min\u001b[0m \u001b[0mself\u001b[0m\u001b[0;34m.\u001b[0m\u001b[0mestimators_\u001b[0m\u001b[0;34m]\u001b[0m\u001b[0;34m)\u001b[0m\u001b[0;34m\u001b[0m\u001b[0;34m\u001b[0m\u001b[0m\n\u001b[0m\u001b[1;32m    453\u001b[0m \u001b[0;34m\u001b[0m\u001b[0m\n\u001b[1;32m    454\u001b[0m     \u001b[0;32mdef\u001b[0m \u001b[0m_check_voting\u001b[0m\u001b[0;34m(\u001b[0m\u001b[0mself\u001b[0m\u001b[0;34m)\u001b[0m\u001b[0;34m:\u001b[0m\u001b[0;34m\u001b[0m\u001b[0;34m\u001b[0m\u001b[0m\n",
            "\u001b[0;32m/usr/local/lib/python3.11/dist-packages/sklearn/neighbors/_classification.py\u001b[0m in \u001b[0;36mpredict_proba\u001b[0;34m(self, X)\u001b[0m\n\u001b[1;32m    369\u001b[0m             \u001b[0;31m# In that case, we do not need the distances to perform\u001b[0m\u001b[0;34m\u001b[0m\u001b[0;34m\u001b[0m\u001b[0m\n\u001b[1;32m    370\u001b[0m             \u001b[0;31m# the weighting so we do not compute them.\u001b[0m\u001b[0;34m\u001b[0m\u001b[0;34m\u001b[0m\u001b[0m\n\u001b[0;32m--> 371\u001b[0;31m             \u001b[0mneigh_ind\u001b[0m \u001b[0;34m=\u001b[0m \u001b[0mself\u001b[0m\u001b[0;34m.\u001b[0m\u001b[0mkneighbors\u001b[0m\u001b[0;34m(\u001b[0m\u001b[0mX\u001b[0m\u001b[0;34m,\u001b[0m \u001b[0mreturn_distance\u001b[0m\u001b[0;34m=\u001b[0m\u001b[0;32mFalse\u001b[0m\u001b[0;34m)\u001b[0m\u001b[0;34m\u001b[0m\u001b[0;34m\u001b[0m\u001b[0m\n\u001b[0m\u001b[1;32m    372\u001b[0m             \u001b[0mneigh_dist\u001b[0m \u001b[0;34m=\u001b[0m \u001b[0;32mNone\u001b[0m\u001b[0;34m\u001b[0m\u001b[0;34m\u001b[0m\u001b[0m\n\u001b[1;32m    373\u001b[0m         \u001b[0;32melse\u001b[0m\u001b[0;34m:\u001b[0m\u001b[0;34m\u001b[0m\u001b[0;34m\u001b[0m\u001b[0m\n",
            "\u001b[0;32m/usr/local/lib/python3.11/dist-packages/sklearn/neighbors/_base.py\u001b[0m in \u001b[0;36mkneighbors\u001b[0;34m(self, X, n_neighbors, return_distance)\u001b[0m\n\u001b[1;32m    836\u001b[0m                 \u001b[0mX\u001b[0m \u001b[0;34m=\u001b[0m \u001b[0m_check_precomputed\u001b[0m\u001b[0;34m(\u001b[0m\u001b[0mX\u001b[0m\u001b[0;34m)\u001b[0m\u001b[0;34m\u001b[0m\u001b[0;34m\u001b[0m\u001b[0m\n\u001b[1;32m    837\u001b[0m             \u001b[0;32melse\u001b[0m\u001b[0;34m:\u001b[0m\u001b[0;34m\u001b[0m\u001b[0;34m\u001b[0m\u001b[0m\n\u001b[0;32m--> 838\u001b[0;31m                 X = validate_data(\n\u001b[0m\u001b[1;32m    839\u001b[0m                     \u001b[0mself\u001b[0m\u001b[0;34m,\u001b[0m\u001b[0;34m\u001b[0m\u001b[0;34m\u001b[0m\u001b[0m\n\u001b[1;32m    840\u001b[0m                     \u001b[0mX\u001b[0m\u001b[0;34m,\u001b[0m\u001b[0;34m\u001b[0m\u001b[0;34m\u001b[0m\u001b[0m\n",
            "\u001b[0;32m/usr/local/lib/python3.11/dist-packages/sklearn/utils/validation.py\u001b[0m in \u001b[0;36mvalidate_data\u001b[0;34m(_estimator, X, y, reset, validate_separately, skip_check_array, **check_params)\u001b[0m\n\u001b[1;32m   2917\u001b[0m         \u001b[0mvalidated\u001b[0m\u001b[0;34m.\u001b[0m\u001b[0;34m\u001b[0m\u001b[0;34m\u001b[0m\u001b[0m\n\u001b[1;32m   2918\u001b[0m     \"\"\"\n\u001b[0;32m-> 2919\u001b[0;31m     \u001b[0m_check_feature_names\u001b[0m\u001b[0;34m(\u001b[0m\u001b[0m_estimator\u001b[0m\u001b[0;34m,\u001b[0m \u001b[0mX\u001b[0m\u001b[0;34m,\u001b[0m \u001b[0mreset\u001b[0m\u001b[0;34m=\u001b[0m\u001b[0mreset\u001b[0m\u001b[0;34m)\u001b[0m\u001b[0;34m\u001b[0m\u001b[0;34m\u001b[0m\u001b[0m\n\u001b[0m\u001b[1;32m   2920\u001b[0m     \u001b[0mtags\u001b[0m \u001b[0;34m=\u001b[0m \u001b[0mget_tags\u001b[0m\u001b[0;34m(\u001b[0m\u001b[0m_estimator\u001b[0m\u001b[0;34m)\u001b[0m\u001b[0;34m\u001b[0m\u001b[0;34m\u001b[0m\u001b[0m\n\u001b[1;32m   2921\u001b[0m     \u001b[0;32mif\u001b[0m \u001b[0my\u001b[0m \u001b[0;32mis\u001b[0m \u001b[0;32mNone\u001b[0m \u001b[0;32mand\u001b[0m \u001b[0mtags\u001b[0m\u001b[0;34m.\u001b[0m\u001b[0mtarget_tags\u001b[0m\u001b[0;34m.\u001b[0m\u001b[0mrequired\u001b[0m\u001b[0;34m:\u001b[0m\u001b[0;34m\u001b[0m\u001b[0;34m\u001b[0m\u001b[0m\n",
            "\u001b[0;32m/usr/local/lib/python3.11/dist-packages/sklearn/utils/validation.py\u001b[0m in \u001b[0;36m_check_feature_names\u001b[0;34m(estimator, X, reset)\u001b[0m\n\u001b[1;32m   2775\u001b[0m             \u001b[0mmessage\u001b[0m \u001b[0;34m+=\u001b[0m \u001b[0;34m\"Feature names must be in the same order as they were in fit.\\n\"\u001b[0m\u001b[0;34m\u001b[0m\u001b[0;34m\u001b[0m\u001b[0m\n\u001b[1;32m   2776\u001b[0m \u001b[0;34m\u001b[0m\u001b[0m\n\u001b[0;32m-> 2777\u001b[0;31m         \u001b[0;32mraise\u001b[0m \u001b[0mValueError\u001b[0m\u001b[0;34m(\u001b[0m\u001b[0mmessage\u001b[0m\u001b[0;34m)\u001b[0m\u001b[0;34m\u001b[0m\u001b[0;34m\u001b[0m\u001b[0m\n\u001b[0m\u001b[1;32m   2778\u001b[0m \u001b[0;34m\u001b[0m\u001b[0m\n\u001b[1;32m   2779\u001b[0m \u001b[0;34m\u001b[0m\u001b[0m\n",
            "\u001b[0;31mValueError\u001b[0m: The feature names should match those that were passed during fit.\nFeature names unseen at fit time:\n- Age\n- BloodPressure\n- DiabetesPedigreeFunction\n- Glucose\n- Insulin\n- ...\nFeature names seen at fit time, yet now missing:\n- AGE\n- BLOODPRESSURE\n- DIABETESPEDIGREEFUNCTION\n- GLUCOSE\n- INSULIN\n- ...\n"
          ]
        }
      ]
    },
    {
      "cell_type": "code",
      "source": [
        "x, y = diabetes_data_prep(df)"
      ],
      "metadata": {
        "colab": {
          "base_uri": "https://localhost:8080/"
        },
        "id": "9e8FkSpxYe50",
        "outputId": "5dc139fc-4c08-4ca4-9c41-7662b396b020"
      },
      "execution_count": 64,
      "outputs": [
        {
          "output_type": "stream",
          "name": "stdout",
          "text": [
            "Observations: 768\n",
            "Variables: 13\n",
            "cat_cols: 5\n",
            "num_cols: 8\n",
            "cat_but_car: 0\n",
            "num_but_cat: 4\n",
            "Observations: 768\n",
            "Variables: 17\n",
            "cat_cols: 9\n",
            "num_cols: 8\n",
            "cat_but_car: 0\n",
            "num_but_cat: 9\n"
          ]
        }
      ]
    },
    {
      "cell_type": "code",
      "source": [
        "random_user = x.sample(1, random_state=45)\n",
        "new_model = joblib.load(\"voting_clf.pkl\")\n",
        "new_model.predict(random_user)"
      ],
      "metadata": {
        "colab": {
          "base_uri": "https://localhost:8080/"
        },
        "id": "zOpOpkN0YhJ_",
        "outputId": "6961fc6b-097e-4913-c4e2-c0df8b9e4c3f"
      },
      "execution_count": 65,
      "outputs": [
        {
          "output_type": "execute_result",
          "data": {
            "text/plain": [
              "array([1])"
            ]
          },
          "metadata": {},
          "execution_count": 65
        }
      ]
    }
  ]
}