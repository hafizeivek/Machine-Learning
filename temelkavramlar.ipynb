{
  "nbformat": 4,
  "nbformat_minor": 0,
  "metadata": {
    "colab": {
      "provenance": []
    },
    "kernelspec": {
      "name": "python3",
      "display_name": "Python 3"
    },
    "language_info": {
      "name": "python"
    }
  },
  "cells": [
    {
      "cell_type": "markdown",
      "source": [
        "TEMEL KAVRAMLAR\n"
      ],
      "metadata": {
        "id": "X375_j7nNmuX"
      }
    },
    {
      "cell_type": "code",
      "source": [
        "değişken türleri:\n",
        "\n",
        "-sayısal değişkenler \"yaş,m2,fiyat\" kesikli de ondalıklı yani sürekli de olabilir\n",
        "\n",
        "-kategorik değişkenler \"kadın,erkek,hasta,sağlıklı\" nominal ya da ordinal olabilir. nominal aralarında fark olmadıgı anlamına gelir. ordinal farklıdır. ornegin egitim durumu\n",
        "\n",
        "-bagımlı değişken \"target,dependent,output,response\"\n",
        "\n",
        "-bagımsız değişken \"feature,dependent,input,column,predictor,explanatory\""
      ],
      "metadata": {
        "id": "wXOr0WkZNn2I"
      },
      "execution_count": null,
      "outputs": []
    },
    {
      "cell_type": "code",
      "source": [
        "öğrenme türleri:\n",
        "\n",
        "-denetimli öğrenme labellar varsa (yani bağımlı değişken varsa)\n",
        "\n",
        "-denetimsiz öğrenme(bağımlı degisken yok)\n",
        "\n",
        "-pekiştirmeli öğrenme"
      ],
      "metadata": {
        "id": "Q90pjkJZPvz4"
      },
      "execution_count": null,
      "outputs": []
    },
    {
      "cell_type": "code",
      "source": [
        "problem türleri:\n",
        "\n",
        "bağımlı değişken sayısalsa regresyon problemi, kategorikse sınıflandırma problemi."
      ],
      "metadata": {
        "id": "vPCwNoU2RPKb"
      },
      "execution_count": null,
      "outputs": []
    },
    {
      "cell_type": "code",
      "source": [
        "model başarı değerlendirme yöntemleri:\n",
        "\n",
        "hatalı tahminlere artık denir\n",
        "\n",
        "regresyon modelinde başarı değerlendirme > MSE\n",
        "sınıflandırma modelinde başarı değerlendirme accuracy > basarı/butun isler\n",
        "\n",
        "* MSE ne kadar kucukse o kadar iyi.\n",
        "* accuracy ne kadar yuksekse o kadar iyi."
      ],
      "metadata": {
        "id": "_3gDsiHsRpGO"
      },
      "execution_count": null,
      "outputs": []
    },
    {
      "cell_type": "code",
      "source": [
        "model dogrulama yontemleri:\n",
        "\n",
        "holdout yöntemi(sınama seti):\n",
        "orijinal veri seti > eğitim seti(modelleme işlemi yaoılır) + test seti (test edilir)\n",
        "\n",
        "k-katlı çapraz doğrulama yontemi:\n",
        "orijinal veri seti eşit parçalara bölünür parçaların biriyle test et, kalanlarıyla model kur\n"
      ],
      "metadata": {
        "id": "RE6_2Oo9T8LU"
      },
      "execution_count": null,
      "outputs": []
    },
    {
      "cell_type": "code",
      "source": [
        "yanlılık-varyans değiş tokuşu:\n",
        "\n",
        "aşırı öğrenme(overfitting): modelin veriyi ezberlemesi. varyans yuksek\n",
        "\n",
        "underfitting: modelin veriyi öğrenememesi. varyans dusuk ama yanlılık yüksek\n",
        "\n",
        "doğru model: yanlılık düşük varyans düşük\n",
        "\n",
        "aşırı öğrenme nasıl anlaşılır?: grafikte eğitim seti ve test setinin birbirinden uzaklaşmaya başladığoı yerde gozlemlenmeye baslanır\n",
        "bu noktada duruludugunda aşırı ogrenmenin onu kesilmis olur"
      ],
      "metadata": {
        "id": "Alxl5dKWWlgT"
      },
      "execution_count": null,
      "outputs": []
    }
  ]
}