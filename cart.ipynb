{
  "nbformat": 4,
  "nbformat_minor": 0,
  "metadata": {
    "colab": {
      "provenance": []
    },
    "kernelspec": {
      "name": "python3",
      "display_name": "Python 3"
    },
    "language_info": {
      "name": "python"
    }
  },
  "cells": [
    {
      "cell_type": "code",
      "execution_count": 1,
      "metadata": {
        "colab": {
          "base_uri": "https://localhost:8080/",
          "height": 72
        },
        "collapsed": true,
        "id": "_MNDHxf-Bnbr",
        "outputId": "da06109f-8574-4e22-dfa4-7c0a1819f379"
      },
      "outputs": [
        {
          "output_type": "display_data",
          "data": {
            "text/plain": [
              "<IPython.core.display.HTML object>"
            ],
            "text/html": [
              "\n",
              "     <input type=\"file\" id=\"files-b2d11373-17b2-4984-b8f5-541d0aa46988\" name=\"files[]\" multiple disabled\n",
              "        style=\"border:none\" />\n",
              "     <output id=\"result-b2d11373-17b2-4984-b8f5-541d0aa46988\">\n",
              "      Upload widget is only available when the cell has been executed in the\n",
              "      current browser session. Please rerun this cell to enable.\n",
              "      </output>\n",
              "      <script>// Copyright 2017 Google LLC\n",
              "//\n",
              "// Licensed under the Apache License, Version 2.0 (the \"License\");\n",
              "// you may not use this file except in compliance with the License.\n",
              "// You may obtain a copy of the License at\n",
              "//\n",
              "//      http://www.apache.org/licenses/LICENSE-2.0\n",
              "//\n",
              "// Unless required by applicable law or agreed to in writing, software\n",
              "// distributed under the License is distributed on an \"AS IS\" BASIS,\n",
              "// WITHOUT WARRANTIES OR CONDITIONS OF ANY KIND, either express or implied.\n",
              "// See the License for the specific language governing permissions and\n",
              "// limitations under the License.\n",
              "\n",
              "/**\n",
              " * @fileoverview Helpers for google.colab Python module.\n",
              " */\n",
              "(function(scope) {\n",
              "function span(text, styleAttributes = {}) {\n",
              "  const element = document.createElement('span');\n",
              "  element.textContent = text;\n",
              "  for (const key of Object.keys(styleAttributes)) {\n",
              "    element.style[key] = styleAttributes[key];\n",
              "  }\n",
              "  return element;\n",
              "}\n",
              "\n",
              "// Max number of bytes which will be uploaded at a time.\n",
              "const MAX_PAYLOAD_SIZE = 100 * 1024;\n",
              "\n",
              "function _uploadFiles(inputId, outputId) {\n",
              "  const steps = uploadFilesStep(inputId, outputId);\n",
              "  const outputElement = document.getElementById(outputId);\n",
              "  // Cache steps on the outputElement to make it available for the next call\n",
              "  // to uploadFilesContinue from Python.\n",
              "  outputElement.steps = steps;\n",
              "\n",
              "  return _uploadFilesContinue(outputId);\n",
              "}\n",
              "\n",
              "// This is roughly an async generator (not supported in the browser yet),\n",
              "// where there are multiple asynchronous steps and the Python side is going\n",
              "// to poll for completion of each step.\n",
              "// This uses a Promise to block the python side on completion of each step,\n",
              "// then passes the result of the previous step as the input to the next step.\n",
              "function _uploadFilesContinue(outputId) {\n",
              "  const outputElement = document.getElementById(outputId);\n",
              "  const steps = outputElement.steps;\n",
              "\n",
              "  const next = steps.next(outputElement.lastPromiseValue);\n",
              "  return Promise.resolve(next.value.promise).then((value) => {\n",
              "    // Cache the last promise value to make it available to the next\n",
              "    // step of the generator.\n",
              "    outputElement.lastPromiseValue = value;\n",
              "    return next.value.response;\n",
              "  });\n",
              "}\n",
              "\n",
              "/**\n",
              " * Generator function which is called between each async step of the upload\n",
              " * process.\n",
              " * @param {string} inputId Element ID of the input file picker element.\n",
              " * @param {string} outputId Element ID of the output display.\n",
              " * @return {!Iterable<!Object>} Iterable of next steps.\n",
              " */\n",
              "function* uploadFilesStep(inputId, outputId) {\n",
              "  const inputElement = document.getElementById(inputId);\n",
              "  inputElement.disabled = false;\n",
              "\n",
              "  const outputElement = document.getElementById(outputId);\n",
              "  outputElement.innerHTML = '';\n",
              "\n",
              "  const pickedPromise = new Promise((resolve) => {\n",
              "    inputElement.addEventListener('change', (e) => {\n",
              "      resolve(e.target.files);\n",
              "    });\n",
              "  });\n",
              "\n",
              "  const cancel = document.createElement('button');\n",
              "  inputElement.parentElement.appendChild(cancel);\n",
              "  cancel.textContent = 'Cancel upload';\n",
              "  const cancelPromise = new Promise((resolve) => {\n",
              "    cancel.onclick = () => {\n",
              "      resolve(null);\n",
              "    };\n",
              "  });\n",
              "\n",
              "  // Wait for the user to pick the files.\n",
              "  const files = yield {\n",
              "    promise: Promise.race([pickedPromise, cancelPromise]),\n",
              "    response: {\n",
              "      action: 'starting',\n",
              "    }\n",
              "  };\n",
              "\n",
              "  cancel.remove();\n",
              "\n",
              "  // Disable the input element since further picks are not allowed.\n",
              "  inputElement.disabled = true;\n",
              "\n",
              "  if (!files) {\n",
              "    return {\n",
              "      response: {\n",
              "        action: 'complete',\n",
              "      }\n",
              "    };\n",
              "  }\n",
              "\n",
              "  for (const file of files) {\n",
              "    const li = document.createElement('li');\n",
              "    li.append(span(file.name, {fontWeight: 'bold'}));\n",
              "    li.append(span(\n",
              "        `(${file.type || 'n/a'}) - ${file.size} bytes, ` +\n",
              "        `last modified: ${\n",
              "            file.lastModifiedDate ? file.lastModifiedDate.toLocaleDateString() :\n",
              "                                    'n/a'} - `));\n",
              "    const percent = span('0% done');\n",
              "    li.appendChild(percent);\n",
              "\n",
              "    outputElement.appendChild(li);\n",
              "\n",
              "    const fileDataPromise = new Promise((resolve) => {\n",
              "      const reader = new FileReader();\n",
              "      reader.onload = (e) => {\n",
              "        resolve(e.target.result);\n",
              "      };\n",
              "      reader.readAsArrayBuffer(file);\n",
              "    });\n",
              "    // Wait for the data to be ready.\n",
              "    let fileData = yield {\n",
              "      promise: fileDataPromise,\n",
              "      response: {\n",
              "        action: 'continue',\n",
              "      }\n",
              "    };\n",
              "\n",
              "    // Use a chunked sending to avoid message size limits. See b/62115660.\n",
              "    let position = 0;\n",
              "    do {\n",
              "      const length = Math.min(fileData.byteLength - position, MAX_PAYLOAD_SIZE);\n",
              "      const chunk = new Uint8Array(fileData, position, length);\n",
              "      position += length;\n",
              "\n",
              "      const base64 = btoa(String.fromCharCode.apply(null, chunk));\n",
              "      yield {\n",
              "        response: {\n",
              "          action: 'append',\n",
              "          file: file.name,\n",
              "          data: base64,\n",
              "        },\n",
              "      };\n",
              "\n",
              "      let percentDone = fileData.byteLength === 0 ?\n",
              "          100 :\n",
              "          Math.round((position / fileData.byteLength) * 100);\n",
              "      percent.textContent = `${percentDone}% done`;\n",
              "\n",
              "    } while (position < fileData.byteLength);\n",
              "  }\n",
              "\n",
              "  // All done.\n",
              "  yield {\n",
              "    response: {\n",
              "      action: 'complete',\n",
              "    }\n",
              "  };\n",
              "}\n",
              "\n",
              "scope.google = scope.google || {};\n",
              "scope.google.colab = scope.google.colab || {};\n",
              "scope.google.colab._files = {\n",
              "  _uploadFiles,\n",
              "  _uploadFilesContinue,\n",
              "};\n",
              "})(self);\n",
              "</script> "
            ]
          },
          "metadata": {}
        },
        {
          "output_type": "stream",
          "name": "stdout",
          "text": [
            "Saving ML_Materials.zip to ML_Materials.zip\n"
          ]
        }
      ],
      "source": [
        "from google.colab import files\n",
        "uploaded = files.upload()"
      ]
    },
    {
      "cell_type": "code",
      "source": [
        "import zipfile\n",
        "\n",
        "# ZIP dosyasını açma\n",
        "zip_path = '/content/ML_Materials.zip'\n",
        "with zipfile.ZipFile(zip_path, 'r') as zip_ref:\n",
        "    zip_ref.printdir()  # İçerikleri listeleme"
      ],
      "metadata": {
        "collapsed": true,
        "colab": {
          "base_uri": "https://localhost:8080/"
        },
        "id": "-wExU01cB-Zu",
        "outputId": "6477bb3b-7e05-4f7f-e0f9-8fb547a2a053"
      },
      "execution_count": 2,
      "outputs": [
        {
          "output_type": "stream",
          "name": "stdout",
          "text": [
            "File Name                                             Modified             Size\n",
            "Kurs Materyalleri(Makine O╠êg╠årenmesi)/       2024-03-23 21:01:18            0\n",
            "__MACOSX/._Kurs Materyalleri(Makine O╠êg╠årenmesi) 2024-03-23 21:01:18          212\n",
            "Kurs Materyalleri(Makine O╠êg╠årenmesi)/cart.py 2021-07-19 21:32:38        12884\n",
            "__MACOSX/Kurs Materyalleri(Makine O╠êg╠årenmesi)/._cart.py 2021-07-19 21:32:38          212\n",
            "Kurs Materyalleri(Makine O╠êg╠årenmesi)/.DS_Store 2021-12-18 18:48:58         6148\n",
            "__MACOSX/Kurs Materyalleri(Makine O╠êg╠årenmesi)/._.DS_Store 2021-12-18 18:48:58          212\n",
            "Kurs Materyalleri(Makine O╠êg╠årenmesi)/diabetes_pipeline.py 2021-07-22 17:55:44         9324\n",
            "__MACOSX/Kurs Materyalleri(Makine O╠êg╠årenmesi)/._diabetes_pipeline.py 2021-07-22 17:55:44          268\n",
            "Kurs Materyalleri(Makine O╠êg╠årenmesi)/datasets/ 2024-03-23 21:01:18            0\n",
            "__MACOSX/Kurs Materyalleri(Makine O╠êg╠årenmesi)/._datasets 2024-03-23 21:01:18          212\n",
            "Kurs Materyalleri(Makine O╠êg╠årenmesi)/diabetes_prediction.py 2021-07-22 18:13:24          548\n",
            "__MACOSX/Kurs Materyalleri(Makine O╠êg╠årenmesi)/._diabetes_prediction.py 2021-07-22 18:13:24          212\n",
            "Kurs Materyalleri(Makine O╠êg╠årenmesi)/unsupervised_learning.py 2021-07-21 20:07:46         8058\n",
            "__MACOSX/Kurs Materyalleri(Makine O╠êg╠årenmesi)/._unsupervised_learning.py 2021-07-21 20:07:46          268\n",
            "Kurs Materyalleri(Makine O╠êg╠årenmesi)/logistic_regression.py 2021-07-10 15:45:48         7737\n",
            "__MACOSX/Kurs Materyalleri(Makine O╠êg╠årenmesi)/._logistic_regression.py 2021-07-10 15:45:48          212\n",
            "Kurs Materyalleri(Makine O╠êg╠årenmesi)/diabetes_research.py 2021-07-22 16:25:28        14786\n",
            "__MACOSX/Kurs Materyalleri(Makine O╠êg╠årenmesi)/._diabetes_research.py 2021-07-22 16:25:28          212\n",
            "Kurs Materyalleri(Makine O╠êg╠årenmesi)/linear_regression.py 2021-07-04 17:10:14         5703\n",
            "__MACOSX/Kurs Materyalleri(Makine O╠êg╠årenmesi)/._linear_regression.py 2021-07-04 17:10:14          212\n",
            "Kurs Materyalleri(Makine O╠êg╠årenmesi)/knn.py 2021-07-19 15:03:32         3139\n",
            "__MACOSX/Kurs Materyalleri(Makine O╠êg╠årenmesi)/._knn.py 2021-07-19 15:03:32          212\n",
            "Kurs Materyalleri(Makine O╠êg╠årenmesi)/advanced_trees.py 2021-07-21 13:16:42        11476\n",
            "__MACOSX/Kurs Materyalleri(Makine O╠êg╠årenmesi)/._advanced_trees.py 2021-07-21 13:16:42          212\n",
            "Kurs Materyalleri(Makine O╠êg╠årenmesi)/datasets/advertising.csv 2021-07-04 15:37:54         4012\n",
            "__MACOSX/Kurs Materyalleri(Makine O╠êg╠årenmesi)/datasets/._advertising.csv 2021-07-04 15:37:54          212\n",
            "Kurs Materyalleri(Makine O╠êg╠årenmesi)/datasets/USArrests.csv 2020-07-16 18:54:24         1387\n",
            "__MACOSX/Kurs Materyalleri(Makine O╠êg╠årenmesi)/datasets/._USArrests.csv 2020-07-16 18:54:24          312\n",
            "Kurs Materyalleri(Makine O╠êg╠årenmesi)/datasets/breast_cancer.csv 2021-07-21 18:20:30       125575\n",
            "__MACOSX/Kurs Materyalleri(Makine O╠êg╠årenmesi)/datasets/._breast_cancer.csv 2021-07-21 18:20:30          212\n",
            "Kurs Materyalleri(Makine O╠êg╠årenmesi)/datasets/titanic.csv 2020-09-30 19:06:52        61194\n",
            "__MACOSX/Kurs Materyalleri(Makine O╠êg╠årenmesi)/datasets/._titanic.csv 2020-09-30 19:06:52          440\n",
            "Kurs Materyalleri(Makine O╠êg╠årenmesi)/datasets/hitters.csv 2020-07-16 19:03:42        20906\n",
            "__MACOSX/Kurs Materyalleri(Makine O╠êg╠årenmesi)/datasets/._hitters.csv 2020-07-16 19:03:42          368\n",
            "Kurs Materyalleri(Makine O╠êg╠årenmesi)/datasets/diabetes.csv 2019-08-24 15:07:14        23873\n",
            "__MACOSX/Kurs Materyalleri(Makine O╠êg╠årenmesi)/datasets/._diabetes.csv 2019-08-24 15:07:14          440\n",
            "Kurs Materyalleri(Makine O╠êg╠årenmesi)/datasets/churn.csv 2021-03-20 11:33:50        36747\n",
            "__MACOSX/Kurs Materyalleri(Makine O╠êg╠årenmesi)/datasets/._churn.csv 2021-03-20 11:33:50          312\n"
          ]
        }
      ]
    },
    {
      "cell_type": "code",
      "source": [
        "import zipfile\n",
        "import os\n",
        "\n",
        "zip_path = '/content/ML_Materials.zip'\n",
        "extract_path = '/content/ML_Materials/'\n",
        "\n",
        "# ZIP dosyasını aç ve içeriği çıkar\n",
        "with zipfile.ZipFile(zip_path, 'r') as zip_ref:\n",
        "    zip_ref.extract('Kurs Materyalleri(Makine O╠êg╠årenmesi)/datasets/diabetes.csv', extract_path)\n",
        "\n",
        "# Çıkarılan dosyanın yolunu görüntüle\n",
        "extracted_file = os.path.join(extract_path, 'Kurs Materyalleri(Makine O╠êg╠årenmesi)/datasets/diabetes.csv')\n",
        "extracted_file\n"
      ],
      "metadata": {
        "collapsed": true,
        "colab": {
          "base_uri": "https://localhost:8080/",
          "height": 35
        },
        "id": "uc0Nch88CAWe",
        "outputId": "e8755584-f3bf-4f6e-8b16-0b258aaa0a39"
      },
      "execution_count": 3,
      "outputs": [
        {
          "output_type": "execute_result",
          "data": {
            "text/plain": [
              "'/content/ML_Materials/Kurs Materyalleri(Makine O╠êg╠årenmesi)/datasets/diabetes.csv'"
            ],
            "application/vnd.google.colaboratory.intrinsic+json": {
              "type": "string"
            }
          },
          "metadata": {},
          "execution_count": 3
        }
      ]
    },
    {
      "cell_type": "markdown",
      "source": [
        "CART ( Classification & Regression Tree )"
      ],
      "metadata": {
        "id": "LlTYfLV9CiXC"
      }
    },
    {
      "cell_type": "code",
      "source": [
        "- amaç karmaşık veri setlerini basit karar yapılarına dönüştürmek\n",
        "- heterojen veri setleri belirlenmiş bir hedef değişkene göre homojen alt gruplara ayrılır"
      ],
      "metadata": {
        "id": "RH7M9SIKCi7A"
      },
      "execution_count": null,
      "outputs": []
    },
    {
      "cell_type": "markdown",
      "source": [
        "CART Kütüphane Kurulumları"
      ],
      "metadata": {
        "id": "JvgfTt3qCnDo"
      }
    },
    {
      "cell_type": "code",
      "source": [
        "!pip install pydotplus"
      ],
      "metadata": {
        "collapsed": true,
        "colab": {
          "base_uri": "https://localhost:8080/"
        },
        "id": "1VDpclRPClA-",
        "outputId": "2eca27f6-0a1d-4c8a-8383-fe63a3ea0790"
      },
      "execution_count": 8,
      "outputs": [
        {
          "output_type": "stream",
          "name": "stdout",
          "text": [
            "Requirement already satisfied: pydotplus in /usr/local/lib/python3.11/dist-packages (2.0.2)\n",
            "Requirement already satisfied: pyparsing>=2.0.1 in /usr/local/lib/python3.11/dist-packages (from pydotplus) (3.2.1)\n"
          ]
        }
      ]
    },
    {
      "cell_type": "code",
      "source": [
        "!pip install skompiler"
      ],
      "metadata": {
        "colab": {
          "base_uri": "https://localhost:8080/"
        },
        "collapsed": true,
        "id": "ihc4fNF1Cp10",
        "outputId": "88941d1e-19aa-4605-bd87-4e15fccde3d7"
      },
      "execution_count": 9,
      "outputs": [
        {
          "output_type": "stream",
          "name": "stdout",
          "text": [
            "Collecting skompiler\n",
            "  Downloading SKompiler-0.7.tar.gz (45 kB)\n",
            "\u001b[?25l     \u001b[90m━━━━━━━━━━━━━━━━━━━━━━━━━━━━━━━━━━━━━━━━\u001b[0m \u001b[32m0.0/45.5 kB\u001b[0m \u001b[31m?\u001b[0m eta \u001b[36m-:--:--\u001b[0m\r\u001b[2K     \u001b[90m━━━━━━━━━━━━━━━━━━━━━━━━━━━━━━━━━━━━━━━━\u001b[0m \u001b[32m45.5/45.5 kB\u001b[0m \u001b[31m2.1 MB/s\u001b[0m eta \u001b[36m0:00:00\u001b[0m\n",
            "\u001b[?25h  Preparing metadata (setup.py) ... \u001b[?25l\u001b[?25hdone\n",
            "Requirement already satisfied: scikit-learn>=0.22 in /usr/local/lib/python3.11/dist-packages (from skompiler) (1.6.0)\n",
            "Requirement already satisfied: numpy>=1.19.5 in /usr/local/lib/python3.11/dist-packages (from scikit-learn>=0.22->skompiler) (1.26.4)\n",
            "Requirement already satisfied: scipy>=1.6.0 in /usr/local/lib/python3.11/dist-packages (from scikit-learn>=0.22->skompiler) (1.13.1)\n",
            "Requirement already satisfied: joblib>=1.2.0 in /usr/local/lib/python3.11/dist-packages (from scikit-learn>=0.22->skompiler) (1.4.2)\n",
            "Requirement already satisfied: threadpoolctl>=3.1.0 in /usr/local/lib/python3.11/dist-packages (from scikit-learn>=0.22->skompiler) (3.5.0)\n",
            "Building wheels for collected packages: skompiler\n",
            "  Building wheel for skompiler (setup.py) ... \u001b[?25l\u001b[?25hdone\n",
            "  Created wheel for skompiler: filename=SKompiler-0.7-py3-none-any.whl size=54310 sha256=f9a47763b0b18c2554ed5036714925a5f85e0c02922d7f839db5ad3926148b16\n",
            "  Stored in directory: /root/.cache/pip/wheels/14/72/77/016a3480b154c1c2f70dcb355af1a01ef832974079ec6148e6\n",
            "Successfully built skompiler\n",
            "Installing collected packages: skompiler\n",
            "Successfully installed skompiler-0.7\n"
          ]
        }
      ]
    },
    {
      "cell_type": "code",
      "source": [
        "!pip install astor"
      ],
      "metadata": {
        "colab": {
          "base_uri": "https://localhost:8080/"
        },
        "collapsed": true,
        "id": "xzPKYhHbCpu0",
        "outputId": "7ebe166b-1acc-4003-8a61-c33e1d0ef175"
      },
      "execution_count": 10,
      "outputs": [
        {
          "output_type": "stream",
          "name": "stdout",
          "text": [
            "Collecting astor\n",
            "  Downloading astor-0.8.1-py2.py3-none-any.whl.metadata (4.2 kB)\n",
            "Downloading astor-0.8.1-py2.py3-none-any.whl (27 kB)\n",
            "Installing collected packages: astor\n",
            "Successfully installed astor-0.8.1\n"
          ]
        }
      ]
    },
    {
      "cell_type": "code",
      "source": [
        "!pip install joblib"
      ],
      "metadata": {
        "colab": {
          "base_uri": "https://localhost:8080/"
        },
        "collapsed": true,
        "id": "2269qGhGCpmy",
        "outputId": "c911409b-64f3-4f7d-a70a-d0669daaa974"
      },
      "execution_count": 11,
      "outputs": [
        {
          "output_type": "stream",
          "name": "stdout",
          "text": [
            "Requirement already satisfied: joblib in /usr/local/lib/python3.11/dist-packages (1.4.2)\n"
          ]
        }
      ]
    },
    {
      "cell_type": "code",
      "source": [
        "import warnings\n",
        "import joblib\n",
        "import pydotplus\n",
        "import numpy as np\n",
        "import pandas as pd\n",
        "import seaborn as sns\n",
        "from matplotlib import pyplot as plt\n",
        "from sklearn.tree import DecisionTreeClassifier, export_graphviz, export_text\n",
        "from sklearn.metrics import classification_report, roc_auc_score\n",
        "from sklearn.model_selection import train_test_split, GridSearchCV, cross_validate, validation_curve\n",
        "from skompiler import skompile\n",
        "import graphviz"
      ],
      "metadata": {
        "id": "65Ebd_erC1IU"
      },
      "execution_count": 12,
      "outputs": []
    },
    {
      "cell_type": "code",
      "source": [
        "pd.set_option('display.max_columns', None)\n",
        "warnings.simplefilter(action='ignore', category=Warning)"
      ],
      "metadata": {
        "id": "hpg-6ZrLC3y2"
      },
      "execution_count": 13,
      "outputs": []
    },
    {
      "cell_type": "markdown",
      "source": [
        "modelleme"
      ],
      "metadata": {
        "id": "3DKBl87UC4-G"
      }
    },
    {
      "cell_type": "code",
      "source": [
        "import pandas as pd\n",
        "df = pd.read_csv(\"/content/ML_Materials/Kurs Materyalleri(Makine O╠êg╠årenmesi)/datasets/diabetes.csv\")"
      ],
      "metadata": {
        "id": "QgXx3qlLC6JG"
      },
      "execution_count": 14,
      "outputs": []
    },
    {
      "cell_type": "code",
      "source": [
        "y = df[\"Outcome\"]\n",
        "X = df.drop([\"Outcome\"], axis=1)"
      ],
      "metadata": {
        "id": "-CesmN2FDz2J"
      },
      "execution_count": 15,
      "outputs": []
    },
    {
      "cell_type": "code",
      "source": [
        "cart_model = DecisionTreeClassifier(random_state=1).fit(X, y)"
      ],
      "metadata": {
        "id": "mQpugaKJD08L"
      },
      "execution_count": 16,
      "outputs": []
    },
    {
      "cell_type": "code",
      "source": [
        "# Confusion matrix için y_pred:\n",
        "y_pred = cart_model.predict(X)"
      ],
      "metadata": {
        "id": "2olzylOwEEq0"
      },
      "execution_count": 17,
      "outputs": []
    },
    {
      "cell_type": "code",
      "source": [
        "# AUC için y_prob:\n",
        "y_prob = cart_model.predict_proba(X)[:, 1]"
      ],
      "metadata": {
        "id": "nbkpGE-OEEoO"
      },
      "execution_count": 19,
      "outputs": []
    },
    {
      "cell_type": "code",
      "source": [
        "# Confusion matrix\n",
        "print(classification_report(y, y_pred))"
      ],
      "metadata": {
        "colab": {
          "base_uri": "https://localhost:8080/"
        },
        "id": "8YuPyLu8EFH-",
        "outputId": "c39bf2b6-647a-4c03-c37c-f6568064231d"
      },
      "execution_count": 20,
      "outputs": [
        {
          "output_type": "stream",
          "name": "stdout",
          "text": [
            "              precision    recall  f1-score   support\n",
            "\n",
            "           0       1.00      1.00      1.00       500\n",
            "           1       1.00      1.00      1.00       268\n",
            "\n",
            "    accuracy                           1.00       768\n",
            "   macro avg       1.00      1.00      1.00       768\n",
            "weighted avg       1.00      1.00      1.00       768\n",
            "\n"
          ]
        }
      ]
    },
    {
      "cell_type": "code",
      "source": [
        "# AUC\n",
        "roc_auc_score(y, y_prob)"
      ],
      "metadata": {
        "colab": {
          "base_uri": "https://localhost:8080/"
        },
        "id": "tNGwt0VkFeck",
        "outputId": "2de0e48a-1410-4795-9fa7-336307120cb8"
      },
      "execution_count": 21,
      "outputs": [
        {
          "output_type": "execute_result",
          "data": {
            "text/plain": [
              "1.0"
            ]
          },
          "metadata": {},
          "execution_count": 21
        }
      ]
    },
    {
      "cell_type": "markdown",
      "source": [
        "bu kadar iyi çıkmasına sevinmeli miyim? modeli iyi mi kurdum yoksa aşırı öğrenmeye mi gitti? çğrenmek için:"
      ],
      "metadata": {
        "id": "WcxssDIMFxGw"
      }
    },
    {
      "cell_type": "markdown",
      "source": [
        "Holdout Yöntemi ile Başarı Değerlendirme"
      ],
      "metadata": {
        "id": "nWREfhxHF5Mu"
      }
    },
    {
      "cell_type": "code",
      "source": [
        "X_train, X_test, y_train, y_test = train_test_split(X, y, test_size=0.30, random_state=45)\n",
        "\n",
        "cart_model = DecisionTreeClassifier(random_state=17).fit(X_train, y_train)"
      ],
      "metadata": {
        "id": "AH-tGc7aF7PJ"
      },
      "execution_count": 22,
      "outputs": []
    },
    {
      "cell_type": "code",
      "source": [
        "# Train Hatası\n",
        "y_pred = cart_model.predict(X_train)\n",
        "y_prob = cart_model.predict_proba(X_train)[:, 1]\n",
        "print(classification_report(y_train, y_pred))\n",
        "roc_auc_score(y_train, y_prob)"
      ],
      "metadata": {
        "colab": {
          "base_uri": "https://localhost:8080/"
        },
        "id": "YbQgfKhvFeav",
        "outputId": "03e356f9-8849-4c8b-fa30-26d044935e21"
      },
      "execution_count": 23,
      "outputs": [
        {
          "output_type": "stream",
          "name": "stdout",
          "text": [
            "              precision    recall  f1-score   support\n",
            "\n",
            "           0       1.00      1.00      1.00       346\n",
            "           1       1.00      1.00      1.00       191\n",
            "\n",
            "    accuracy                           1.00       537\n",
            "   macro avg       1.00      1.00      1.00       537\n",
            "weighted avg       1.00      1.00      1.00       537\n",
            "\n"
          ]
        },
        {
          "output_type": "execute_result",
          "data": {
            "text/plain": [
              "1.0"
            ]
          },
          "metadata": {},
          "execution_count": 23
        }
      ]
    },
    {
      "cell_type": "code",
      "source": [
        "# Test Hatası\n",
        "y_pred = cart_model.predict(X_test)\n",
        "y_prob = cart_model.predict_proba(X_test)[:, 1]\n",
        "print(classification_report(y_test, y_pred))\n",
        "roc_auc_score(y_test, y_prob) #model eğitildiği veride yuksek basarı gosterdi. ama bilmediği veride oranlar neredeyse yarı yarıya dustu"
      ],
      "metadata": {
        "colab": {
          "base_uri": "https://localhost:8080/"
        },
        "id": "lP5aPPFmGKx1",
        "outputId": "9bf3c42d-ca67-42e4-a71a-fdb7adc023b7"
      },
      "execution_count": 24,
      "outputs": [
        {
          "output_type": "stream",
          "name": "stdout",
          "text": [
            "              precision    recall  f1-score   support\n",
            "\n",
            "           0       0.77      0.75      0.76       154\n",
            "           1       0.53      0.56      0.54        77\n",
            "\n",
            "    accuracy                           0.69       231\n",
            "   macro avg       0.65      0.66      0.65       231\n",
            "weighted avg       0.69      0.69      0.69       231\n",
            "\n"
          ]
        },
        {
          "output_type": "execute_result",
          "data": {
            "text/plain": [
              "0.6558441558441559"
            ]
          },
          "metadata": {},
          "execution_count": 24
        }
      ]
    },
    {
      "cell_type": "code",
      "source": [
        "#yani capraz dogrulamaya gitmem lazım"
      ],
      "metadata": {
        "id": "mIO1Bn4vHBg4"
      },
      "execution_count": null,
      "outputs": []
    },
    {
      "cell_type": "markdown",
      "source": [
        "CV ile Başarı Değerlendirme"
      ],
      "metadata": {
        "id": "IaLbvdrzGMt2"
      }
    },
    {
      "cell_type": "code",
      "source": [
        "cart_model = DecisionTreeClassifier(random_state=17).fit(X, y)\n",
        "\n",
        "cv_results = cross_validate(cart_model,X, y,cv=5,scoring=[\"accuracy\", \"f1\", \"roc_auc\"])"
      ],
      "metadata": {
        "id": "nG1YA5TGGKvY"
      },
      "execution_count": 26,
      "outputs": []
    },
    {
      "cell_type": "code",
      "source": [
        "cv_results['test_accuracy'].mean()"
      ],
      "metadata": {
        "colab": {
          "base_uri": "https://localhost:8080/"
        },
        "id": "V09yQwYKGW-b",
        "outputId": "48d7242f-ef5c-4a87-e58b-c9c387aa96f3"
      },
      "execution_count": 27,
      "outputs": [
        {
          "output_type": "execute_result",
          "data": {
            "text/plain": [
              "0.7058568882098294"
            ]
          },
          "metadata": {},
          "execution_count": 27
        }
      ]
    },
    {
      "cell_type": "code",
      "source": [
        "cv_results['test_f1'].mean()"
      ],
      "metadata": {
        "colab": {
          "base_uri": "https://localhost:8080/"
        },
        "id": "E8xBEet5GW4I",
        "outputId": "1c9709ed-da21-4078-8907-0dc114d10f5e"
      },
      "execution_count": 28,
      "outputs": [
        {
          "output_type": "execute_result",
          "data": {
            "text/plain": [
              "0.5710621194523633"
            ]
          },
          "metadata": {},
          "execution_count": 28
        }
      ]
    },
    {
      "cell_type": "code",
      "source": [
        "cv_results['test_roc_auc'].mean()"
      ],
      "metadata": {
        "colab": {
          "base_uri": "https://localhost:8080/"
        },
        "id": "ev3JIMXTGWww",
        "outputId": "000b4a94-48ac-4f1a-8a7e-fdc52a751c31"
      },
      "execution_count": 29,
      "outputs": [
        {
          "output_type": "execute_result",
          "data": {
            "text/plain": [
              "0.6719440950384347"
            ]
          },
          "metadata": {},
          "execution_count": 29
        }
      ]
    },
    {
      "cell_type": "code",
      "source": [
        "#bunlar en gecerli sonuclar"
      ],
      "metadata": {
        "id": "yNxLq-ivHr-k"
      },
      "execution_count": null,
      "outputs": []
    },
    {
      "cell_type": "markdown",
      "source": [
        "Hiperparametre Optimizasyonu"
      ],
      "metadata": {
        "id": "DeLuGFaBHwJE"
      }
    },
    {
      "cell_type": "code",
      "source": [
        "cart_model.get_params()"
      ],
      "metadata": {
        "colab": {
          "base_uri": "https://localhost:8080/"
        },
        "id": "LK9VrYWYHwzy",
        "outputId": "e692aa07-ef48-4247-8f0b-242dc597c51e"
      },
      "execution_count": 30,
      "outputs": [
        {
          "output_type": "execute_result",
          "data": {
            "text/plain": [
              "{'ccp_alpha': 0.0,\n",
              " 'class_weight': None,\n",
              " 'criterion': 'gini',\n",
              " 'max_depth': None,\n",
              " 'max_features': None,\n",
              " 'max_leaf_nodes': None,\n",
              " 'min_impurity_decrease': 0.0,\n",
              " 'min_samples_leaf': 1,\n",
              " 'min_samples_split': 2,\n",
              " 'min_weight_fraction_leaf': 0.0,\n",
              " 'monotonic_cst': None,\n",
              " 'random_state': 17,\n",
              " 'splitter': 'best'}"
            ]
          },
          "metadata": {},
          "execution_count": 30
        }
      ]
    },
    {
      "cell_type": "code",
      "source": [
        "cart_params = {'max_depth': range(1, 11),\n",
        "               \"min_samples_split\": range(2, 20)}#bu degerleri neye gore giriyoruz hafize biliyo musun?\n",
        "               #ön tanımlı degerlere bakıp etrafındaki değerleri giriyoruz. kafamıza gore degil yani"
      ],
      "metadata": {
        "id": "JWd5jnwoH9cj"
      },
      "execution_count": 31,
      "outputs": []
    },
    {
      "cell_type": "code",
      "source": [
        "cart_best_grid = GridSearchCV(cart_model, #GridSearchCV metodu en iyi parametreleri vermek icin kullanılan metod\n",
        "                              cart_params,\n",
        "                              cv=5,\n",
        "                              n_jobs=-1,\n",
        "                              verbose=1).fit(X, y)"
      ],
      "metadata": {
        "colab": {
          "base_uri": "https://localhost:8080/"
        },
        "id": "pOUQzSnZH9Zm",
        "outputId": "b55e12bd-0798-4012-97b4-41047d9081ab"
      },
      "execution_count": 32,
      "outputs": [
        {
          "output_type": "stream",
          "name": "stdout",
          "text": [
            "Fitting 5 folds for each of 180 candidates, totalling 900 fits\n"
          ]
        }
      ]
    },
    {
      "cell_type": "code",
      "source": [
        "cart_best_grid.best_params_ #en iyi degerler"
      ],
      "metadata": {
        "colab": {
          "base_uri": "https://localhost:8080/"
        },
        "id": "XBhdY7lCICnY",
        "outputId": "bd7f67a7-8adb-4b92-be59-80cc1cf7a60d"
      },
      "execution_count": 33,
      "outputs": [
        {
          "output_type": "execute_result",
          "data": {
            "text/plain": [
              "{'max_depth': 5, 'min_samples_split': 4}"
            ]
          },
          "metadata": {},
          "execution_count": 33
        }
      ]
    },
    {
      "cell_type": "code",
      "source": [
        "cart_best_grid.best_score_ #en iyi degerlere gore en iyi skorlar"
      ],
      "metadata": {
        "colab": {
          "base_uri": "https://localhost:8080/"
        },
        "id": "RLi6WeGZImM5",
        "outputId": "7ddf4706-8209-428d-9b0f-c9b2671aa54a"
      },
      "execution_count": 34,
      "outputs": [
        {
          "output_type": "execute_result",
          "data": {
            "text/plain": [
              "0.7500806383159324"
            ]
          },
          "metadata": {},
          "execution_count": 34
        }
      ]
    },
    {
      "cell_type": "code",
      "source": [
        "random = X.sample(1, random_state=45)\n",
        "cart_best_grid.predict(random)"
      ],
      "metadata": {
        "colab": {
          "base_uri": "https://localhost:8080/"
        },
        "id": "Tcy12cjIImFf",
        "outputId": "97f9b6da-2fc3-46bd-9322-6eb9b2794047"
      },
      "execution_count": 37,
      "outputs": [
        {
          "output_type": "execute_result",
          "data": {
            "text/plain": [
              "array([1])"
            ]
          },
          "metadata": {},
          "execution_count": 37
        }
      ]
    },
    {
      "cell_type": "markdown",
      "source": [
        "Final Model"
      ],
      "metadata": {
        "id": "-ATNfBJuJykg"
      }
    },
    {
      "cell_type": "code",
      "source": [
        "cart_final = DecisionTreeClassifier(**cart_best_grid.best_params_, random_state=17).fit(X, y)"
      ],
      "metadata": {
        "id": "ggvTH2zVI7Am"
      },
      "execution_count": 38,
      "outputs": []
    },
    {
      "cell_type": "code",
      "source": [
        "cart_final.get_params()"
      ],
      "metadata": {
        "colab": {
          "base_uri": "https://localhost:8080/"
        },
        "id": "UZCS4Jo6J2Q8",
        "outputId": "96f6894a-72e4-4c90-9bbe-c34479d03e1e"
      },
      "execution_count": 39,
      "outputs": [
        {
          "output_type": "execute_result",
          "data": {
            "text/plain": [
              "{'ccp_alpha': 0.0,\n",
              " 'class_weight': None,\n",
              " 'criterion': 'gini',\n",
              " 'max_depth': 5,\n",
              " 'max_features': None,\n",
              " 'max_leaf_nodes': None,\n",
              " 'min_impurity_decrease': 0.0,\n",
              " 'min_samples_leaf': 1,\n",
              " 'min_samples_split': 4,\n",
              " 'min_weight_fraction_leaf': 0.0,\n",
              " 'monotonic_cst': None,\n",
              " 'random_state': 17,\n",
              " 'splitter': 'best'}"
            ]
          },
          "metadata": {},
          "execution_count": 39
        }
      ]
    },
    {
      "cell_type": "code",
      "source": [
        "cart_final = cart_model.set_params(**cart_best_grid.best_params_).fit(X, y)"
      ],
      "metadata": {
        "id": "e0fjD7EdJ2Oo"
      },
      "execution_count": 40,
      "outputs": []
    },
    {
      "cell_type": "code",
      "source": [
        "cv_results = cross_validate(cart_final,\n",
        "                            X, y,\n",
        "                            cv=5,\n",
        "                            scoring=[\"accuracy\", \"f1\", \"roc_auc\"])"
      ],
      "metadata": {
        "id": "rq-bfyNjJ2Ly"
      },
      "execution_count": 41,
      "outputs": []
    },
    {
      "cell_type": "code",
      "source": [
        "cv_results['test_accuracy'].mean()"
      ],
      "metadata": {
        "colab": {
          "base_uri": "https://localhost:8080/"
        },
        "id": "HJ0YvRC4J2JE",
        "outputId": "88b55268-0137-4c0e-b98f-05a6bd4c0737"
      },
      "execution_count": 42,
      "outputs": [
        {
          "output_type": "execute_result",
          "data": {
            "text/plain": [
              "0.7500806383159324"
            ]
          },
          "metadata": {},
          "execution_count": 42
        }
      ]
    },
    {
      "cell_type": "code",
      "source": [
        "cv_results['test_f1'].mean()"
      ],
      "metadata": {
        "colab": {
          "base_uri": "https://localhost:8080/"
        },
        "id": "N2zEXsvkKBzx",
        "outputId": "67fba6ff-e180-42fe-b707-b34fd1b4b7bd"
      },
      "execution_count": 43,
      "outputs": [
        {
          "output_type": "execute_result",
          "data": {
            "text/plain": [
              "0.614625004082526"
            ]
          },
          "metadata": {},
          "execution_count": 43
        }
      ]
    },
    {
      "cell_type": "code",
      "source": [
        "cv_results['test_roc_auc'].mean()"
      ],
      "metadata": {
        "colab": {
          "base_uri": "https://localhost:8080/"
        },
        "id": "0QglWGhGKBse",
        "outputId": "77e0c86a-06bb-4789-f6f1-4d5840f65b6d"
      },
      "execution_count": 44,
      "outputs": [
        {
          "output_type": "execute_result",
          "data": {
            "text/plain": [
              "0.797796645702306"
            ]
          },
          "metadata": {},
          "execution_count": 44
        }
      ]
    },
    {
      "cell_type": "code",
      "source": [
        "#basarılı bir sekilde hataları dusurduk ve oranları yukselttik. yukarıdan bakabilirsin"
      ],
      "metadata": {
        "id": "qdmqHnyOKNWF"
      },
      "execution_count": null,
      "outputs": []
    },
    {
      "cell_type": "markdown",
      "source": [
        "Özellik Önemi ( Feature Importance )"
      ],
      "metadata": {
        "id": "IQ2H9bufKTq0"
      }
    },
    {
      "cell_type": "code",
      "source": [
        "cart_final.feature_importances_"
      ],
      "metadata": {
        "colab": {
          "base_uri": "https://localhost:8080/"
        },
        "id": "u5E0wlcMKXtN",
        "outputId": "63ceef8c-564c-44e7-dd30-edfdd370bfaa"
      },
      "execution_count": 45,
      "outputs": [
        {
          "output_type": "execute_result",
          "data": {
            "text/plain": [
              "array([0.01129738, 0.49448119, 0.05065617, 0.        , 0.01497644,\n",
              "       0.22221379, 0.06819923, 0.13817579])"
            ]
          },
          "metadata": {},
          "execution_count": 45
        }
      ]
    },
    {
      "cell_type": "code",
      "source": [
        "def plot_importance(model, features, num=len(X), save=False):\n",
        "    feature_imp = pd.DataFrame({'Value': model.feature_importances_, 'Feature': features.columns})\n",
        "    plt.figure(figsize=(10, 10))\n",
        "    sns.set(font_scale=1)\n",
        "    sns.barplot(x=\"Value\", y=\"Feature\", data=feature_imp.sort_values(by=\"Value\",\n",
        "                                                                     ascending=False)[0:num])\n",
        "    plt.title('Features')\n",
        "    plt.tight_layout()\n",
        "    plt.show()\n",
        "    if save:\n",
        "        plt.savefig('importances.png')"
      ],
      "metadata": {
        "id": "h3e0g67tKXif"
      },
      "execution_count": 49,
      "outputs": []
    },
    {
      "cell_type": "code",
      "source": [
        "plot_importance(cart_final, X, num=5)"
      ],
      "metadata": {
        "colab": {
          "base_uri": "https://localhost:8080/",
          "height": 760
        },
        "id": "YTO1BjQGKZgw",
        "outputId": "16ba651a-a623-470f-8e72-192afecaa075"
      },
      "execution_count": 50,
      "outputs": [
        {
          "output_type": "display_data",
          "data": {
            "text/plain": [
              "<Figure size 1000x1000 with 1 Axes>"
            ],
            "image/png": "[encoded data removed]"
          },
          "metadata": {}
        }
      ]
    },
    {
      "cell_type": "markdown",
      "source": [
        "Öğrenme Eğrileriyle Model Karmaşıklığını Analiz Etme"
      ],
      "metadata": {
        "id": "oD8qMi6AK8KB"
      }
    },
    {
      "cell_type": "code",
      "source": [
        "train_score, test_score = validation_curve(cart_final, X, y,\n",
        "                                           param_name=\"max_depth\",\n",
        "                                           param_range=range(1, 11),\n",
        "                                           scoring=\"roc_auc\",\n",
        "                                           cv=10)"
      ],
      "metadata": {
        "id": "88Y7Vp0BLRcg"
      },
      "execution_count": 51,
      "outputs": []
    },
    {
      "cell_type": "code",
      "source": [
        "mean_train_score = np.mean(train_score, axis=1)"
      ],
      "metadata": {
        "id": "dGw7r3R5Ly9b"
      },
      "execution_count": 52,
      "outputs": []
    },
    {
      "cell_type": "code",
      "source": [
        "mean_test_score = np.mean(test_score, axis=1)"
      ],
      "metadata": {
        "id": "lM4xF83WLy7N"
      },
      "execution_count": 53,
      "outputs": []
    },
    {
      "cell_type": "code",
      "source": [
        "plt.plot(range(1, 11), mean_train_score,\n",
        "         label=\"Training Score\", color='b')"
      ],
      "metadata": {
        "colab": {
          "base_uri": "https://localhost:8080/",
          "height": 451
        },
        "id": "dqpCw_XrL2JM",
        "outputId": "7bfdb31f-4f3d-4aca-840e-982dd03f89b4"
      },
      "execution_count": 54,
      "outputs": [
        {
          "output_type": "execute_result",
          "data": {
            "text/plain": [
              "[<matplotlib.lines.Line2D at 0x7fd9f8f5a950>]"
            ]
          },
          "metadata": {},
          "execution_count": 54
        },
        {
          "output_type": "display_data",
          "data": {
            "text/plain": [
              "<Figure size 640x480 with 1 Axes>"
            ],
            "image/png": "[encoded data removed]"
          },
          "metadata": {}
        }
      ]
    },
    {
      "cell_type": "code",
      "source": [
        "plt.plot(range(1, 11), mean_test_score,\n",
        "         label=\"Validation Score\", color='g')"
      ],
      "metadata": {
        "colab": {
          "base_uri": "https://localhost:8080/",
          "height": 453
        },
        "id": "mbT4PcrcL4aa",
        "outputId": "6f777849-13ef-4716-ab28-3701b997eb0d"
      },
      "execution_count": 56,
      "outputs": [
        {
          "output_type": "execute_result",
          "data": {
            "text/plain": [
              "[<matplotlib.lines.Line2D at 0x7fd9f8e0ec90>]"
            ]
          },
          "metadata": {},
          "execution_count": 56
        },
        {
          "output_type": "display_data",
          "data": {
            "text/plain": [
              "<Figure size 640x480 with 1 Axes>"
            ],
            "image/png": "[encoded data removed]"
          },
          "metadata": {}
        }
      ]
    },
    {
      "cell_type": "code",
      "source": [
        "plt.plot(range(1, 11), mean_train_score,\n",
        "         label=\"Training Score\", color='b')\n",
        "\n",
        "plt.plot(range(1, 11), mean_test_score,\n",
        "         label=\"Validation Score\", color='g')\n",
        "\n",
        "plt.title(\"Validation Curve for CART\")\n",
        "plt.xlabel(\"Number of max_depth\")\n",
        "plt.ylabel(\"AUC\")\n",
        "plt.tight_layout()\n",
        "plt.legend(loc='best')\n",
        "plt.show()\n"
      ],
      "metadata": {
        "colab": {
          "base_uri": "https://localhost:8080/",
          "height": 480
        },
        "id": "PeSwMIqBMUcJ",
        "outputId": "e25704f5-6d28-490f-d339-6713943f6472"
      },
      "execution_count": 58,
      "outputs": [
        {
          "output_type": "display_data",
          "data": {
            "text/plain": [
              "<Figure size 640x480 with 1 Axes>"
            ],
            "image/png": "[encoded data removed]"
          },
          "metadata": {}
        }
      ]
    },
    {
      "cell_type": "code",
      "source": [
        "from sklearn.tree import DecisionTreeClassifier\n",
        "from sklearn.model_selection import validation_curve\n",
        "import numpy as np\n",
        "import matplotlib.pyplot as plt\n",
        "\n",
        "# Dinamik görselleştirme yapmak için validation_curve fonksiyonuna dayalı bir fonksiyon\n",
        "def val_curve_params(model, x, y, param_name, param_range, scoring='roc_auc', cv=10):\n",
        "    train_score, test_score = validation_curve(model, x, y,\n",
        "                                               param_name=param_name,\n",
        "                                               param_range=param_range,\n",
        "                                               scoring=scoring,\n",
        "                                               cv=cv)\n",
        "    mean_train_score = np.mean(train_score, axis=1)\n",
        "    mean_test_score = np.mean(test_score, axis=1)\n",
        "    plt.plot(param_range, mean_train_score, label='Training score', color='b')\n",
        "    plt.plot(param_range, mean_test_score, label='Test score', color='g')\n",
        "    plt.title(f'Validation Curve for {type(model).__name__}')\n",
        "    plt.xlabel(f'{param_name}')\n",
        "    plt.ylabel(f'{scoring}')\n",
        "    plt.tight_layout()\n",
        "    plt.legend(loc='best')\n",
        "    plt.show()\n",
        "\n",
        "# Model ve veri tanımlamaları\n",
        "cart_final = DecisionTreeClassifier()  # DecisionTree modelini tanımlıyoruz\n",
        "x = np.random.rand(100, 5)  # 100 satır ve 5 sütundan oluşan rastgele bir veri seti\n",
        "y = np.random.randint(0, 2, size=100)  # 0 ve 1'den oluşan rastgele etiketler\n",
        "\n",
        "# Dinamik görselleştirme fonksiyonunu çağırıyoruz\n",
        "val_curve_params(cart_final, x, y, 'max_depth', range(1, 11))\n"
      ],
      "metadata": {
        "colab": {
          "base_uri": "https://localhost:8080/",
          "height": 487
        },
        "id": "iftFaX_DV8of",
        "outputId": "2b6b1913-35bf-478f-99ed-31816ed0437c"
      },
      "execution_count": 8,
      "outputs": [
        {
          "output_type": "display_data",
          "data": {
            "text/plain": [
              "<Figure size 640x480 with 1 Axes>"
            ],
            "image/png": "[encoded data removed]"
          },
          "metadata": {}
        }
      ]
    },
    {
      "cell_type": "code",
      "source": [
        "cart_val_params = [[\"max_depth\", range(1, 11)], [\"min_samples_split\", range(2, 20)]]"
      ],
      "metadata": {
        "id": "Rx0gHPrCWgsf"
      },
      "execution_count": 9,
      "outputs": []
    },
    {
      "cell_type": "markdown",
      "source": [
        "Görselleştirme ( Visualization )"
      ],
      "metadata": {
        "id": "mo_3esGiW_GL"
      }
    },
    {
      "cell_type": "code",
      "source": [
        "def tree_graph(model, col_names, file_name):\n",
        "    tree_str = export_graphviz(model, feature_names=col_names, filled=True, out_file=None)\n",
        "    graph = pydotplus.graph_from_dot_data(tree_str)\n",
        "    graph.write_png(file_name)"
      ],
      "metadata": {
        "id": "MB5WeOEJW017"
      },
      "execution_count": 13,
      "outputs": []
    },
    {
      "cell_type": "code",
      "source": [
        "import pandas as pd\n",
        "from sklearn.datasets import load_iris\n",
        "from sklearn.tree import DecisionTreeClassifier, export_graphviz\n",
        "import graphviz\n",
        "\n",
        "# Örnek veri seti\n",
        "data = load_iris()\n",
        "X = pd.DataFrame(data.data, columns=data.feature_names)  # Özellikler\n",
        "y = pd.Series(data.target)  # Hedef değişken\n",
        "\n",
        "# Model tanımlama ve eğitme\n",
        "cart_final = DecisionTreeClassifier(max_depth=3)\n",
        "cart_final.fit(X, y)\n",
        "\n",
        "# tree_graph fonksiyonu\n",
        "def tree_graph(model, col_names, file_name=\"tree\"):\n",
        "    dot_data = export_graphviz(model, out_file=None,\n",
        "                               feature_names=col_names,\n",
        "                               filled=True, rounded=True,\n",
        "                               special_characters=True)\n",
        "    graph = graphviz.Source(dot_data)\n",
        "    graph.render(file_name, format='png', cleanup=True)\n",
        "    print(f\"Decision tree görselleştirme '{file_name}.png' olarak kaydedildi.\")\n",
        "\n",
        "# Görselleştirme çağrısı\n",
        "tree_graph(model=cart_final, col_names=X.columns, file_name=\"cart_final\")\n"
      ],
      "metadata": {
        "colab": {
          "base_uri": "https://localhost:8080/"
        },
        "collapsed": true,
        "id": "UDqQ8r5OX8Fx",
        "outputId": "9b07d318-e5fb-4064-ecc7-ebdfb8d7f4cc"
      },
      "execution_count": 19,
      "outputs": [
        {
          "output_type": "stream",
          "name": "stdout",
          "text": [
            "Decision tree görselleştirme 'cart_final.png' olarak kaydedildi.\n"
          ]
        }
      ]
    },
    {
      "cell_type": "code",
      "source": [
        "cart_final.get_params()"
      ],
      "metadata": {
        "colab": {
          "base_uri": "https://localhost:8080/"
        },
        "collapsed": true,
        "id": "HZsP_WvsYCwF",
        "outputId": "def6c45c-b3cc-4505-88f4-55c89a313af4"
      },
      "execution_count": 20,
      "outputs": [
        {
          "output_type": "execute_result",
          "data": {
            "text/plain": [
              "{'ccp_alpha': 0.0,\n",
              " 'class_weight': None,\n",
              " 'criterion': 'gini',\n",
              " 'max_depth': 3,\n",
              " 'max_features': None,\n",
              " 'max_leaf_nodes': None,\n",
              " 'min_impurity_decrease': 0.0,\n",
              " 'min_samples_leaf': 1,\n",
              " 'min_samples_split': 2,\n",
              " 'min_weight_fraction_leaf': 0.0,\n",
              " 'monotonic_cst': None,\n",
              " 'random_state': None,\n",
              " 'splitter': 'best'}"
            ]
          },
          "metadata": {},
          "execution_count": 20
        }
      ]
    },
    {
      "cell_type": "markdown",
      "source": [
        "Karar Kuralları"
      ],
      "metadata": {
        "id": "p5roCEDwYX6n"
      }
    },
    {
      "cell_type": "code",
      "source": [
        "from sklearn.tree import DecisionTreeClassifier, export_text\n",
        "import pandas as pd\n",
        "from sklearn.model_selection import train_test_split\n",
        "from sklearn.datasets import load_iris\n",
        "\n",
        "# Örnek veri seti (Iris veri seti kullanılıyor)\n",
        "data = load_iris()\n",
        "x = pd.DataFrame(data.data, columns=data.feature_names)  # Özellikler\n",
        "y = pd.Series(data.target)  # Hedef değişken\n",
        "\n",
        "# Eğitim ve test verilerini ayırma\n",
        "x_train, x_test, y_train, y_test = train_test_split(x, y, test_size=0.2, random_state=42)\n",
        "\n",
        "# Model tanımlama ve eğitme\n",
        "cart_final = DecisionTreeClassifier(max_depth=4, random_state=42)  # Karar ağacı sınıflandırıcısı\n",
        "cart_final.fit(x_train, y_train)\n",
        "\n",
        "# Karar ağacı kurallarını yazdırma\n",
        "tree_rules = export_text(cart_final, feature_names=list(x.columns))\n",
        "print(tree_rules)\n"
      ],
      "metadata": {
        "colab": {
          "base_uri": "https://localhost:8080/"
        },
        "collapsed": true,
        "id": "zX1oVXxPZCxX",
        "outputId": "030ec52a-bdce-4099-aea2-1fd92f20fb3e"
      },
      "execution_count": 25,
      "outputs": [
        {
          "output_type": "stream",
          "name": "stdout",
          "text": [
            "|--- petal length (cm) <= 2.45\n",
            "|   |--- class: 0\n",
            "|--- petal length (cm) >  2.45\n",
            "|   |--- petal length (cm) <= 4.75\n",
            "|   |   |--- petal width (cm) <= 1.65\n",
            "|   |   |   |--- class: 1\n",
            "|   |   |--- petal width (cm) >  1.65\n",
            "|   |   |   |--- class: 2\n",
            "|   |--- petal length (cm) >  4.75\n",
            "|   |   |--- petal width (cm) <= 1.75\n",
            "|   |   |   |--- petal length (cm) <= 4.95\n",
            "|   |   |   |   |--- class: 1\n",
            "|   |   |   |--- petal length (cm) >  4.95\n",
            "|   |   |   |   |--- class: 2\n",
            "|   |   |--- petal width (cm) >  1.75\n",
            "|   |   |   |--- petal length (cm) <= 4.85\n",
            "|   |   |   |   |--- class: 2\n",
            "|   |   |   |--- petal length (cm) >  4.85\n",
            "|   |   |   |   |--- class: 2\n",
            "\n"
          ]
        }
      ]
    },
    {
      "cell_type": "markdown",
      "source": [
        "Karar Kurallarının Python Kodlarını Çıkartma"
      ],
      "metadata": {
        "id": "o6L8tlEFb02r"
      }
    },
    {
      "cell_type": "code",
      "source": [
        "!pip install scikit-learn==0.23.1"
      ],
      "metadata": {
        "colab": {
          "base_uri": "https://localhost:8080/"
        },
        "collapsed": true,
        "id": "co93K43UcZun",
        "outputId": "8850b67c-8260-47be-c2e5-57d4fa245456"
      },
      "execution_count": 31,
      "outputs": [
        {
          "output_type": "stream",
          "name": "stdout",
          "text": [
            "Collecting scikit-learn==0.23.1\n",
            "  Using cached scikit-learn-0.23.1.tar.gz (7.2 MB)\n",
            "  \u001b[1;31merror\u001b[0m: \u001b[1msubprocess-exited-with-error\u001b[0m\n",
            "  \n",
            "  \u001b[31m×\u001b[0m \u001b[32mpip subprocess to install build dependencies\u001b[0m did not run successfully.\n",
            "  \u001b[31m│\u001b[0m exit code: \u001b[1;36m1\u001b[0m\n",
            "  \u001b[31m╰─>\u001b[0m See above for output.\n",
            "  \n",
            "  \u001b[1;35mnote\u001b[0m: This error originates from a subprocess, and is likely not a problem with pip.\n",
            "  Installing build dependencies ... \u001b[?25l\u001b[?25herror\n",
            "\u001b[1;31merror\u001b[0m: \u001b[1msubprocess-exited-with-error\u001b[0m\n",
            "\n",
            "\u001b[31m×\u001b[0m \u001b[32mpip subprocess to install build dependencies\u001b[0m did not run successfully.\n",
            "\u001b[31m│\u001b[0m exit code: \u001b[1;36m1\u001b[0m\n",
            "\u001b[31m╰─>\u001b[0m See above for output.\n",
            "\n",
            "\u001b[1;35mnote\u001b[0m: This error originates from a subprocess, and is likely not a problem with pip.\n"
          ]
        }
      ]
    },
    {
      "cell_type": "code",
      "source": [
        "!pip install astor\n"
      ],
      "metadata": {
        "collapsed": true,
        "colab": {
          "base_uri": "https://localhost:8080/"
        },
        "id": "kJx4e1iqj1xe",
        "outputId": "7d0b1a06-6a68-47a5-e3ad-b65b7e2bb09a"
      },
      "execution_count": 34,
      "outputs": [
        {
          "output_type": "stream",
          "name": "stdout",
          "text": [
            "Collecting astor\n",
            "  Downloading astor-0.8.1-py2.py3-none-any.whl.metadata (4.2 kB)\n",
            "Downloading astor-0.8.1-py2.py3-none-any.whl (27 kB)\n",
            "Installing collected packages: astor\n",
            "Successfully installed astor-0.8.1\n"
          ]
        }
      ]
    },
    {
      "cell_type": "code",
      "source": [
        "print(skompile(cart_final.predict).to('python/code'))"
      ],
      "metadata": {
        "colab": {
          "base_uri": "https://localhost:8080/"
        },
        "collapsed": true,
        "id": "X3yIacoej4XE",
        "outputId": "c2a02a50-fac1-460f-d21d-8e10efc4d58e"
      },
      "execution_count": 35,
      "outputs": [
        {
          "output_type": "stream",
          "name": "stdout",
          "text": [
            "(0 if x[2] <= 2.449999988079071 else (1 if x[3] <= 1.6500000357627869 else \n",
            "    2) if x[2] <= 4.75 else (1 if x[2] <= 4.950000047683716 else 2) if x[3] <=\n",
            "    1.75 else 2 if x[2] <= 4.8500001430511475 else 2)\n",
            "\n"
          ]
        }
      ]
    },
    {
      "cell_type": "markdown",
      "source": [
        "Python Kodları ile Tahmin İşlemleri"
      ],
      "metadata": {
        "id": "hoja43mkkgVM"
      }
    },
    {
      "cell_type": "code",
      "source": [
        "def predict_with_rules(x):\n",
        "    return ((((((0 if x[6] <= 0.671999990940094 else 1 if x[6] <= 0.6864999830722809 else\n",
        "        0) if x[0] <= 7.5 else 1) if x[5] <= 30.949999809265137 else ((1 if x[5\n",
        "        ] <= 32.45000076293945 else 1 if x[3] <= 10.5 else 0) if x[2] <= 53.0 else\n",
        "        ((0 if x[1] <= 111.5 else 0 if x[2] <= 72.0 else 1 if x[3] <= 31.0 else\n",
        "        0) if x[2] <= 82.5 else 1) if x[4] <= 36.5 else 0) if x[6] <=\n",
        "        0.5005000084638596 else (0 if x[1] <= 88.5 else (((0 if x[0] <= 1.0 else\n",
        "        1) if x[1] <= 98.5 else 1) if x[6] <= 0.9269999861717224 else 0) if x[1\n",
        "        ] <= 116.0 else 0 if x[4] <= 166.0 else 1) if x[2] <= 69.0 else ((0 if\n",
        "        x[2] <= 79.0 else 0 if x[1] <= 104.5 else 1) if x[3] <= 5.5 else 0) if\n",
        "        x[6] <= 1.098000019788742 else 1) if x[5] <= 45.39999961853027 else 0 if\n",
        "        x[7] <= 22.5 else 1) if x[7] <= 28.5 else (1 if x[5] <=\n",
        "        9.649999618530273 else 0) if x[5] <= 26.350000381469727 else (1 if x[1] <=\n",
        "        28.5 else ((0 if x[0] <= 11.5 else 1 if x[5] <= 31.25 else 0) if x[1] <=\n",
        "        94.5 else (1 if x[5] <= 36.19999885559082 else 0) if x[1] <= 97.5 else\n",
        "        0) if x[6] <= 0.7960000038146973 else 0 if x[0] <= 3.0 else (1 if x[6] <=\n",
        "        0.9614999890327454 else 0) if x[3] <= 20.0 else 1) if x[1] <= 99.5 else\n",
        "        ((1 if x[5] <= 27.649999618530273 else 0 if x[0] <= 5.5 else (((1 if x[\n",
        "        0] <= 7.0 else 0) if x[1] <= 103.5 else 0) if x[1] <= 118.5 else 1) if\n",
        "        x[0] <= 9.0 else 0) if x[6] <= 0.19999999552965164 else ((0 if x[5] <=\n",
        "        36.14999961853027 else 1) if x[1] <= 113.0 else 1) if x[0] <= 1.5 else\n",
        "        (1 if x[6] <= 0.3620000034570694 else 1 if x[5] <= 30.050000190734863 else\n",
        "        0) if x[2] <= 67.0 else (((0 if x[6] <= 0.2524999976158142 else 1) if x\n",
        "        [1] <= 120.0 else 1 if x[6] <= 0.23899999260902405 else 1 if x[7] <=\n",
        "        30.5 else 0) if x[2] <= 83.0 else 0) if x[5] <= 34.45000076293945 else\n",
        "        1 if x[1] <= 101.0 else 0 if x[5] <= 43.10000038146973 else 1) if x[6] <=\n",
        "        0.5609999895095825 else ((0 if x[7] <= 34.5 else 1 if x[5] <=\n",
        "        33.14999961853027 else 0) if x[4] <= 120.5 else (1 if x[3] <= 47.5 else\n",
        "        0) if x[4] <= 225.0 else 0) if x[0] <= 6.5 else 1) if x[1] <= 127.5 else\n",
        "        (((((1 if x[1] <= 129.5 else ((1 if x[6] <= 0.5444999933242798 else 0) if\n",
        "        x[2] <= 56.0 else 0) if x[2] <= 71.0 else 1) if x[2] <= 73.0 else 0) if\n",
        "        x[5] <= 28.149999618530273 else (1 if x[1] <= 135.0 else 0) if x[3] <=\n",
        "        21.0 else 1) if x[4] <= 132.5 else 0) if x[1] <= 145.5 else 0 if x[7] <=\n",
        "        25.5 else ((0 if x[1] <= 151.0 else 1) if x[5] <= 27.09999942779541 else\n",
        "        ((1 if x[0] <= 6.5 else 0) if x[6] <= 0.3974999934434891 else 0) if x[2\n",
        "        ] <= 82.0 else 0) if x[7] <= 61.0 else 0) if x[5] <= 29.949999809265137\n",
        "         else ((1 if x[2] <= 61.0 else (((((0 if x[6] <= 0.18299999833106995 else\n",
        "        1) if x[0] <= 0.5 else 1 if x[5] <= 32.45000076293945 else 0) if x[2] <=\n",
        "        73.0 else 0) if x[0] <= 4.5 else 1 if x[6] <= 0.6169999837875366 else 0\n",
        "        ) if x[6] <= 1.1414999961853027 else 1) if x[5] <= 41.79999923706055 else\n",
        "        1 if x[6] <= 0.37299999594688416 else 1 if x[1] <= 142.5 else 0) if x[7\n",
        "        ] <= 30.5 else (((1 if x[6] <= 0.13649999350309372 else 0 if x[5] <=\n",
        "        32.45000076293945 else 1 if x[5] <= 33.05000114440918 else (0 if x[6] <=\n",
        "        0.25599999725818634 else (0 if x[1] <= 130.5 else 1) if x[0] <= 8.5 else\n",
        "        0) if x[0] <= 13.5 else 1) if x[2] <= 92.0 else 1) if x[5] <=\n",
        "        45.54999923706055 else 1) if x[6] <= 0.4294999986886978 else (1 if x[5] <=\n",
        "        40.05000114440918 else 0 if x[5] <= 40.89999961853027 else 1) if x[4] <=\n",
        "        333.5 else 1 if x[2] <= 64.0 else 0) if x[1] <= 157.5 else ((((1 if x[7\n",
        "        ] <= 25.5 else 0 if x[4] <= 87.5 else 1 if x[5] <= 45.60000038146973 else\n",
        "        0) if x[7] <= 37.5 else 1 if x[7] <= 56.5 else 0 if x[6] <=\n",
        "        0.22100000083446503 else 1) if x[6] <= 0.28849999606609344 else 0) if x\n",
        "        [6] <= 0.3004999905824661 else 1 if x[7] <= 44.0 else (0 if x[7] <=\n",
        "        51.0 else 1 if x[6] <= 1.1565000414848328 else 0) if x[0] <= 6.5 else 1\n",
        "        ) if x[4] <= 629.5 else 1 if x[6] <= 0.4124999940395355 else 0)\n",
        "\n",
        "\n"
      ],
      "metadata": {
        "id": "sorq1eU5kmrJ"
      },
      "execution_count": 38,
      "outputs": []
    },
    {
      "cell_type": "code",
      "source": [
        "X.columns\n",
        "\n",
        "x = [12, 13, 20, 23, 4, 55, 12, 7]\n",
        "\n",
        "predict_with_rules(x)\n",
        "\n",
        "x = [6, 148, 70, 35, 0, 30, 0.62, 50]\n",
        "\n",
        "predict_with_rules(x)"
      ],
      "metadata": {
        "colab": {
          "base_uri": "https://localhost:8080/"
        },
        "id": "-2WDngsvkzyC",
        "outputId": "05f6572f-c8a1-4b9e-8830-62f517fa2a48"
      },
      "execution_count": 39,
      "outputs": [
        {
          "output_type": "execute_result",
          "data": {
            "text/plain": [
              "1"
            ]
          },
          "metadata": {},
          "execution_count": 39
        }
      ]
    },
    {
      "cell_type": "markdown",
      "source": [
        "Model Kaydetme ve Çağırma"
      ],
      "metadata": {
        "id": "gOBViLwck3Qs"
      }
    },
    {
      "cell_type": "code",
      "source": [
        "# Gerekli kütüphaneleri yükleyin\n",
        "!pip install joblib\n",
        "import joblib\n",
        "import pandas as pd\n",
        "\n",
        "# Modeli kaydet\n",
        "joblib.dump(cart_final, \"cart_final.pkl\")\n",
        "\n",
        "import joblib\n",
        "import pandas as pd\n",
        "\n",
        "# Daha önce kaydedilen modeli yükle\n",
        "cart_model_from_disc = joblib.load(\"cart_final.pkl\")\n",
        "\n",
        "# Örnek veri (4 özellik sağlıyoruz)\n",
        "x = [[12, 13, 20, 23]]  # Modelin beklentisine uygun şekilde düzenlendi\n",
        "\n",
        "# Tahmin işlemi\n",
        "prediction = cart_model_from_disc.predict(pd.DataFrame(x))\n",
        "print(prediction)\n"
      ],
      "metadata": {
        "colab": {
          "base_uri": "https://localhost:8080/"
        },
        "collapsed": true,
        "id": "mVy_h4zGlMTB",
        "outputId": "5b1e4e83-1a56-400b-e1ff-43ce6b447e37"
      },
      "execution_count": 42,
      "outputs": [
        {
          "output_type": "stream",
          "name": "stdout",
          "text": [
            "Requirement already satisfied: joblib in /usr/local/lib/python3.11/dist-packages (1.4.2)\n",
            "[2]\n"
          ]
        },
        {
          "output_type": "stream",
          "name": "stderr",
          "text": [
            "/usr/local/lib/python3.11/dist-packages/sklearn/utils/validation.py:2739: UserWarning: X does not have valid feature names, but DecisionTreeClassifier was fitted with feature names\n",
            "  warnings.warn(\n"
          ]
        }
      ]
    }
  ]
}